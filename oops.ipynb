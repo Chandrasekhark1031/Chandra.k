{
 "cells": [
  {
   "cell_type": "code",
   "execution_count": 2,
   "id": "9c8aa563-7aa1-4663-b44e-f821014b3be9",
   "metadata": {},
   "outputs": [],
   "source": [
    "# oops: object oriented programming language\n",
    "# principle of opps:class,object,encapsulation ,inheritance,abstraction,polymorphism\n",
    "# python classes /objects : class is a blueprint for creating objects.\n",
    "\n",
    "# crate a class: to create a class use the keyword class\n",
    "#  class class_name:# body of class\n"
   ]
  },
  {
   "cell_type": "code",
   "execution_count": 2,
   "id": "eb8cec9e-54b4-4ee7-bdb1-8e5328d3411d",
   "metadata": {},
   "outputs": [
    {
     "name": "stdout",
     "output_type": "stream",
     "text": [
      "buddy is 3 years old.\n",
      "max is 5 years old.\n",
      "woof!\n",
      "woof!\n"
     ]
    }
   ],
   "source": [
    "# object: instance of a class\n",
    "# now we can use the class named myclass to create objects:object is physical entity,we can create any no.of object for class.\n",
    "#obj=myclass()\n",
    "#print(obj.x)\n",
    "\n",
    "#example\n",
    "class Dog:\n",
    "    def __init__(self,name,age):\n",
    "        self.name=name\n",
    "        self.age=age\n",
    "    def bark(self):\n",
    "        print(\"woof!\")\n",
    "#creating object of the dog class\n",
    "dog1=Dog('buddy',3)\n",
    "dog2=Dog('max',5)\n",
    "print(f\"{dog1.name} is {dog1.age} years old.\")\n",
    "print(f\"{dog2.name} is {dog2.age} years old.\")  \n",
    "dog1.bark()\n",
    "dog2.bark()"
   ]
  },
  {
   "cell_type": "code",
   "execution_count": 4,
   "id": "c39c1a30-9ce2-4c2b-b31d-bd7492b41052",
   "metadata": {},
   "outputs": [
    {
     "name": "stdout",
     "output_type": "stream",
     "text": [
      "hello world\n"
     ]
    }
   ],
   "source": [
    "# the self parameter:\n",
    "class self():\n",
    "    def __init__(self):\n",
    "        print(\"hello world\")\n",
    "obj=self()\n"
   ]
  },
  {
   "cell_type": "code",
   "execution_count": 5,
   "id": "a87bd707-97e5-42df-8946-5e7b635c6693",
   "metadata": {},
   "outputs": [
    {
     "name": "stdout",
     "output_type": "stream",
     "text": [
      "<__main__.dog object at 0x00000202F1555700>\n"
     ]
    }
   ],
   "source": [
    "# the init function: it is called the constructor.it is automatically executed when an object is created from a class\n",
    "class dog:\n",
    "    def __init__ (self,name,age):\n",
    "        self.name=name\n",
    "        self.age=age\n",
    "dog1=dog(name=\"buddy\",age=6)\n",
    "\n",
    "print(dog1)"
   ]
  },
  {
   "cell_type": "code",
   "execution_count": 5,
   "id": "af74c427-a929-4f7f-b802-0fc4006ec8c2",
   "metadata": {},
   "outputs": [
    {
     "name": "stdout",
     "output_type": "stream",
     "text": [
      "woof!\n",
      "buddy,4 years old.\n"
     ]
    }
   ],
   "source": [
    "# str method:\n",
    "class dog:\n",
    "    def __init__(self,name,age):\n",
    "        self.name=name\n",
    "        self.age=age\n",
    "        \n",
    "    def bark(self):\n",
    "        print(\"woof!\")\n",
    "        \n",
    "    def __str__(self):\n",
    "      return f\"{self.name},{self.age} years old.\"\n",
    "dog1=dog(name=\"buddy\",age=4)\n",
    "\n",
    "dog1.bark()\n",
    "print(dog1)        \n",
    "    "
   ]
  },
  {
   "cell_type": "code",
   "execution_count": 1,
   "id": "d0014fd7-864e-4936-b65c-02e5ef3b1096",
   "metadata": {},
   "outputs": [
    {
     "name": "stdout",
     "output_type": "stream",
     "text": [
      "i can eat\n",
      "i can sleep\n",
      "i can bark! woof woof!\n"
     ]
    }
   ],
   "source": [
    "# inheritance:\n",
    "class animal:\n",
    "    def eat(self):\n",
    "        print(\"i can eat\")\n",
    "    def sleep(self):\n",
    "        print(\"i can sleep\") \n",
    "   # derived class     \n",
    "class dog(animal):        \n",
    "    def bark(self):\n",
    "        print(\"i can bark! woof woof!\")\n",
    "class cat(animal):\n",
    "    \n",
    "    def mayoo(self):\n",
    "        print(\"i can mayoo!mayoo!\")\n",
    "dog1=dog()\n",
    "dog1.eat()\n",
    "dog1.sleep()\n",
    "dog1.bark()\n",
    "#obj2=cat()\n",
    "#obj2.eat()\n",
    "#obj2.sllep()\n",
    "#obj2.mayoo"
   ]
  },
  {
   "cell_type": "code",
   "execution_count": 11,
   "id": "f22b0ee9-57bb-4f20-97aa-35efe496d6a2",
   "metadata": {},
   "outputs": [
    {
     "name": "stdout",
     "output_type": "stream",
     "text": [
      "3\n",
      "4\n"
     ]
    }
   ],
   "source": [
    "# encapsulation:\n",
    "class demo:\n",
    "    def __init__(self,a,b):\n",
    "        self.__a=a     #private\n",
    "        self._b=b    #protected\n",
    "        print(self.__a)\n",
    "class demo1(demo):\n",
    "    \n",
    "    def output(self):\n",
    "        print(self._b)\n",
    "\n",
    "\n",
    "d=demo1(3,4)\n",
    "d.output()\n",
    "\n",
    "\n",
    "   "
   ]
  },
  {
   "cell_type": "code",
   "execution_count": 12,
   "id": "de9c4708-529d-4046-8b5f-5a9c362a4a86",
   "metadata": {},
   "outputs": [
    {
     "name": "stdout",
     "output_type": "stream",
     "text": [
      "5\n",
      "None\n",
      "ab\n",
      "None\n",
      "6.0\n",
      "None\n"
     ]
    }
   ],
   "source": [
    "# polymorphism: the same entity (method or operator or object)can perform different operqtion in differnt scenarios.\n",
    "class sum():\n",
    "    def add (self,a,b):\n",
    "        print(a+b)\n",
    "obj=sum() \n",
    "print(obj.add(3,2))\n",
    "print(obj.add('a','b'))\n",
    "print(obj.add(3.5,2.5))"
   ]
  },
  {
   "cell_type": "code",
   "execution_count": null,
   "id": "87191efe-7216-4872-9ba7-eafae65486b9",
   "metadata": {},
   "outputs": [],
   "source": [
    "# abstraction: hidding unnecessary details\n",
    " class car:\n",
    "     def start_engine(self):\n",
    "         pass      # abstract method ,implemeentation details hidden\n",
    "     def drive(self):\n",
    "         pass    #     !!        !!        !!\n",
    "     def stop_engine(self):\n",
    "         pass    #      !!      !!        !!\n"
   ]
  },
  {
   "cell_type": "code",
   "execution_count": null,
   "id": "1281e124-5791-4446-9599-6b286f83baf7",
   "metadata": {},
   "outputs": [],
   "source": []
  }
 ],
 "metadata": {
  "kernelspec": {
   "display_name": "Python 3 (ipykernel)",
   "language": "python",
   "name": "python3"
  },
  "language_info": {
   "codemirror_mode": {
    "name": "ipython",
    "version": 3
   },
   "file_extension": ".py",
   "mimetype": "text/x-python",
   "name": "python",
   "nbconvert_exporter": "python",
   "pygments_lexer": "ipython3",
   "version": "3.12.4"
  }
 },
 "nbformat": 4,
 "nbformat_minor": 5
}
