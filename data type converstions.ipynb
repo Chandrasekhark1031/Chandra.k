{
 "cells": [
  {
   "cell_type": "code",
   "execution_count": 4,
   "id": "b0e6abf3-3c20-40fd-85b9-8f7a55c02b54",
   "metadata": {},
   "outputs": [
    {
     "name": "stdout",
     "output_type": "stream",
     "text": [
      "5.0\n",
      "1\n",
      "(5+0j)\n",
      "2j\n"
     ]
    }
   ],
   "source": [
    "# data type cnverstions\n",
    "x=5 #int\n",
    "y=1.44 #float\n",
    "z= 2j #complex\n",
    "#convert from int to float\n",
    "a=float(x)\n",
    "#convert from float to int\n",
    "b=int(y)\n",
    "#convert from int to complex\n",
    "c=complex(x)\n",
    "#convert from float to complex\n",
    "d=complexz) \n",
    "print(a)\n",
    "print(b)\n",
    "print(c)\n",
    "print(d)"
   ]
  },
  {
   "cell_type": "code",
   "execution_count": null,
   "id": "004c62e6-9d4e-46eb-8a58-12b63c6a2849",
   "metadata": {},
   "outputs": [],
   "source": []
  }
 ],
 "metadata": {
  "kernelspec": {
   "display_name": "Python 3 (ipykernel)",
   "language": "python",
   "name": "python3"
  },
  "language_info": {
   "codemirror_mode": {
    "name": "ipython",
    "version": 3
   },
   "file_extension": ".py",
   "mimetype": "text/x-python",
   "name": "python",
   "nbconvert_exporter": "python",
   "pygments_lexer": "ipython3",
   "version": "3.12.4"
  }
 },
 "nbformat": 4,
 "nbformat_minor": 5
}
