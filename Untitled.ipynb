{
 "cells": [
  {
   "cell_type": "code",
   "execution_count": 3,
   "id": "e03dff9e-77f9-4ac3-b149-a4c3f2d0ca6e",
   "metadata": {},
   "outputs": [
    {
     "name": "stdout",
     "output_type": "stream",
     "text": [
      "python version: 3.12.4 | packaged by Anaconda, Inc. | (main, Jun 18 2024, 15:03:56) [MSC v.1929 64 bit (AMD64)]\n"
     ]
    }
   ],
   "source": [
    "#python version\n",
    "import sys\n",
    "# Print only the python version as a string\n",
    "print(\"python version:\",sys.version)"
   ]
  },
  {
   "cell_type": "code",
   "execution_count": 7,
   "id": "f72653a8-801e-4c84-a0a9-b82d992c1907",
   "metadata": {},
   "outputs": [
    {
     "name": "stdout",
     "output_type": "stream",
     "text": [
      "Hello world\n"
     ]
    }
   ],
   "source": [
    "#python first program \n",
    "print(\"Hello world\")"
   ]
  },
  {
   "cell_type": "code",
   "execution_count": 2,
   "id": "25da2be7-c0df-4201-9020-f5c794d3b04b",
   "metadata": {},
   "outputs": [
    {
     "name": "stdout",
     "output_type": "stream",
     "text": [
      "ten is greater than two\n"
     ]
    }
   ],
   "source": [
    "# identation\n",
    "if 10>2:\n",
    "    print(\"ten is greater than two\")\n",
    "    "
   ]
  },
  {
   "cell_type": "code",
   "execution_count": 3,
   "id": "ceed3c3b-ef98-4dd9-8226-f91b01a6698e",
   "metadata": {},
   "outputs": [
    {
     "name": "stdout",
     "output_type": "stream",
     "text": [
      "['False', 'None', 'True', 'and', 'as', 'assert', 'async', 'await', 'break', 'class', 'continue', 'def', 'del', 'elif', 'else', 'except', 'finally', 'for', 'from', 'global', 'if', 'import', 'in', 'is', 'lambda', 'nonlocal', 'not', 'or', 'pass', 'raise', 'return', 'try', 'while', 'with', 'yield']\n"
     ]
    },
    {
     "data": {
      "text/plain": [
       "35"
      ]
     },
     "execution_count": 3,
     "metadata": {},
     "output_type": "execute_result"
    }
   ],
   "source": [
    "#python keywords\n",
    "import keyword\n",
    "python_keywords=keyword.kwlist\n",
    "print( python_keywords)\n",
    "len(python_keywords)"
   ]
  },
  {
   "cell_type": "code",
   "execution_count": null,
   "id": "80dfb6d0-0e73-4767-a530-0c6049b6b379",
   "metadata": {},
   "outputs": [],
   "source": []
  }
 ],
 "metadata": {
  "kernelspec": {
   "display_name": "Python 3 (ipykernel)",
   "language": "python",
   "name": "python3"
  },
  "language_info": {
   "codemirror_mode": {
    "name": "ipython",
    "version": 3
   },
   "file_extension": ".py",
   "mimetype": "text/x-python",
   "name": "python",
   "nbconvert_exporter": "python",
   "pygments_lexer": "ipython3",
   "version": "3.12.4"
  }
 },
 "nbformat": 4,
 "nbformat_minor": 5
}
