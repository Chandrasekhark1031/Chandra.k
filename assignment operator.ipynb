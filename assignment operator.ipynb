{
 "cells": [
  {
   "cell_type": "code",
   "execution_count": 2,
   "id": "55d096a9-5d9b-4aa9-a691-59689de2f26d",
   "metadata": {},
   "outputs": [
    {
     "name": "stdout",
     "output_type": "stream",
     "text": [
      "7\n"
     ]
    }
   ],
   "source": [
    "#assignment operator\n",
    "a=5\n",
    "b=2\n",
    "# += addition assignment\n",
    "a+=b #a=a+b\n",
    "print(a)"
   ]
  },
  {
   "cell_type": "code",
   "execution_count": 8,
   "id": "7b748f08-6446-4a50-9c24-3c7ac88a205e",
   "metadata": {},
   "outputs": [
    {
     "name": "stdout",
     "output_type": "stream",
     "text": [
      "3\n"
     ]
    }
   ],
   "source": [
    "# -= sub assignment\n",
    "a=5\n",
    "b=2\n",
    "a-=b #a=a-b\n",
    "print(a)"
   ]
  },
  {
   "cell_type": "code",
   "execution_count": 7,
   "id": "eb960cf8-4c65-4bc5-a484-30a94bbda1d7",
   "metadata": {},
   "outputs": [
    {
     "name": "stdout",
     "output_type": "stream",
     "text": [
      "10\n"
     ]
    }
   ],
   "source": [
    "# *= multi assignment\n",
    "a=5\n",
    "b=2\n",
    "a*=b #a=a*b\n",
    "print(a)"
   ]
  },
  {
   "cell_type": "code",
   "execution_count": 9,
   "id": "a7a10fd5-fbc4-468f-99d0-a9c670359f08",
   "metadata": {},
   "outputs": [
    {
     "name": "stdout",
     "output_type": "stream",
     "text": [
      "2.5\n"
     ]
    }
   ],
   "source": [
    "# /= div assignment\n",
    "a=5\n",
    "b=2\n",
    "a/=b # a=a/b\n",
    "print(a)"
   ]
  },
  {
   "cell_type": "code",
   "execution_count": 10,
   "id": "5d1f2717-f9fd-4d73-aef8-1eac93ebbbe0",
   "metadata": {},
   "outputs": [
    {
     "name": "stdout",
     "output_type": "stream",
     "text": [
      "1\n"
     ]
    }
   ],
   "source": [
    "# %= remainder(module) assignment\n",
    "a=5\n",
    "b=2\n",
    "a%=b# a=a%b\n",
    "print(a)"
   ]
  },
  {
   "cell_type": "code",
   "execution_count": null,
   "id": "9c276b39-3270-441d-aa2e-69597f72d691",
   "metadata": {},
   "outputs": [],
   "source": [
    "# **= exponention assignment\n",
    "a=5\n",
    "b=2\n",
    "a**=b# a=a"
   ]
  }
 ],
 "metadata": {
  "kernelspec": {
   "display_name": "Python 3 (ipykernel)",
   "language": "python",
   "name": "python3"
  },
  "language_info": {
   "codemirror_mode": {
    "name": "ipython",
    "version": 3
   },
   "file_extension": ".py",
   "mimetype": "text/x-python",
   "name": "python",
   "nbconvert_exporter": "python",
   "pygments_lexer": "ipython3",
   "version": "3.12.4"
  }
 },
 "nbformat": 4,
 "nbformat_minor": 5
}
