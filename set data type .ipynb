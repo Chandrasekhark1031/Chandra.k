{
 "cells": [
  {
   "cell_type": "code",
   "execution_count": 2,
   "id": "9dfb82a6-260e-4610-a7b4-6c351862cb5f",
   "metadata": {},
   "outputs": [
    {
     "name": "stdout",
     "output_type": "stream",
     "text": [
      "<class 'tuple'>\n"
     ]
    }
   ],
   "source": [
    "# set data type:\n",
    "     # a set is a collection of unique elements and it is defined by curly braces {} and seperated by commas(,)\n",
    "    # set is unorderd ,mutable\n",
    "    # do not allow dupilicate elements\n",
    "\n",
    "# empty_set=set()\n",
    "# creating a set wuth elements\n",
    "fruits='apple','banana','cherry'\n",
    "print(type(fruits))"
   ]
  },
  {
   "cell_type": "code",
   "execution_count": 18,
   "id": "8c620fde-9584-4773-acac-b30ee25de047",
   "metadata": {},
   "outputs": [
    {
     "name": "stdout",
     "output_type": "stream",
     "text": [
      "{1, 2, 3}\n",
      "{2, 3, 4, 6, 9}\n",
      "{'python', 'java', 'c'}\n"
     ]
    }
   ],
   "source": [
    "# dupilicate items in a set\n",
    "set={1,1,1,2,2,2,3,3,3}\n",
    "set1={3,6,2,2,3,4,6,2,2,9,9}\n",
    "lang={\"python\",\"java\",\"c\",\"java\",\"c\"}\n",
    "print(set)\n",
    "print(set1)\n",
    "print(lang)"
   ]
  },
  {
   "cell_type": "code",
   "execution_count": 6,
   "id": "d4511ee4-03c9-4743-b978-4171b0b01447",
   "metadata": {},
   "outputs": [
    {
     "name": "stdout",
     "output_type": "stream",
     "text": [
      "{2, 3, 4, 5, 8, 9}\n",
      "{1, 2, 'java', 'c', 'python', 'swift', 'c++'}\n",
      "{1, 2, 3, 5, 8, 9, 'python', 'swift', 'c++'}\n",
      "{2, 3, 5, 'python', 'java', 8, 9, 'c'}\n"
     ]
    }
   ],
   "source": [
    "#sets methods:\n",
    "  #union():\n",
    "a={2,3,5,4,8}\n",
    "b={8,5,3,2,9}   \n",
    "c={\"python\",\"java\",\"c\"}          # a.union(b)  or  a|b  -- remove dupilicate elements\n",
    "d={\"swift\",\"c++\",1,2,\"python\"}\n",
    "print(a.union(b))\n",
    "print(c|d)\n",
    "print(b|d)\n",
    "print(b|c)"
   ]
  },
  {
   "cell_type": "code",
   "execution_count": 7,
   "id": "fb454d3c-cb35-43c0-8ce4-ae57e8aaccd4",
   "metadata": {},
   "outputs": [
    {
     "name": "stdout",
     "output_type": "stream",
     "text": [
      "{8, 2, 3, 5}\n",
      "{'python'}\n",
      "{2}\n",
      "set()\n"
     ]
    }
   ],
   "source": [
    "# intersection()\n",
    "\n",
    "a={2,3,5,4,8}\n",
    "b={8,5,3,2,9}   \n",
    "c={\"python\",\"java\",\"c\"}          # a.intersection(b)  or  a&b ---select common elements \n",
    "d={\"swift\",\"c++\",1,2,\"python\"}\n",
    "print(a.intersection(b))\n",
    "print(c&d)\n",
    "print(b&d)\n",
    "print(b&c)\n"
   ]
  },
  {
   "cell_type": "code",
   "execution_count": 10,
   "id": "83c375f0-bbfc-4987-b0be-4d614334b032",
   "metadata": {},
   "outputs": [
    {
     "name": "stdout",
     "output_type": "stream",
     "text": [
      "{4}\n",
      "{9}\n",
      "{'java', 'c'}\n",
      "{'python', 'java', 'c'}\n",
      "{2, 3, 5, 8, 9}\n"
     ]
    }
   ],
   "source": [
    "# differnce()\n",
    "\n",
    "a={2,3,5,4,8}\n",
    "b={8,5,3,2,9}   \n",
    "c={\"python\",\"java\",\"c\"}         # a.difference(b)  or  a-b  --- only selected unique elements of a \n",
    "d={\"swift\",\"c++\",1,2,\"python\"}\n",
    "print(a.difference(b))                               #  b-a --- only selected unique elements of b\n",
    "print(b-a)\n",
    "print(c-d)\n",
    "print(c-b)\n",
    "print(b-c)"
   ]
  },
  {
   "cell_type": "code",
   "execution_count": 4,
   "id": "e73c2788-d9cd-46db-98a0-a66b4edf8916",
   "metadata": {},
   "outputs": [
    {
     "name": "stdout",
     "output_type": "stream",
     "text": [
      "{'swift', 'python'}\n"
     ]
    }
   ],
   "source": [
    "# remove() or discard\n",
    "lang={'swift','java','python'}\n",
    "x=lang.remove('java')\n",
    "#y=lang.discard('python')\n",
    "print(lang)"
   ]
  },
  {
   "cell_type": "code",
   "execution_count": 14,
   "id": "77b670bb-9e26-466c-b246-1dfcb1971896",
   "metadata": {},
   "outputs": [
    {
     "name": "stdout",
     "output_type": "stream",
     "text": [
      "{4, 9}\n",
      "{1, 2, 'java', 'c', 'c++', 'swift'}\n",
      "{1, 3, 5, 8, 9, 'python', 'swift', 'c++'}\n",
      "{2, 3, 5, 'java', 'c', 8, 'python', 9}\n"
     ]
    }
   ],
   "source": [
    "# symmetric_difference()\n",
    "\n",
    "a={2,3,5,4,8}\n",
    "b={8,5,3,2,9}   \n",
    "c={\"python\",\"java\",\"c\"}          # a.symmetric difference(b)  or  a^b --- only selected unique elements of a and b,  do not select common elements\n",
    "d={\"swift\",\"c++\",1,2,\"python\"}\n",
    "print(a.symmetric_difference(b))\n",
    "print(c^d)\n",
    "print(b^d)\n",
    "print(b^c)"
   ]
  },
  {
   "cell_type": "code",
   "execution_count": 29,
   "id": "8162a22a-5f55-4d7c-8bf0-e95d6484cbe4",
   "metadata": {},
   "outputs": [
    {
     "name": "stdout",
     "output_type": "stream",
     "text": [
      "{1, 2, 3, 4, 10}\n",
      "{'swift', 'python', 'java', 'c'}\n"
     ]
    }
   ],
   "source": [
    "# add item to set\n",
    "lang={\"python\",\"c\",\"java\"}\n",
    "num={1,2,3,4}\n",
    "x=lang.add(\"swift\")\n",
    "y=num.add(10)\n",
    "print(num)\n",
    "print(lang)"
   ]
  },
  {
   "cell_type": "code",
   "execution_count": 27,
   "id": "2acc6aea-dd91-41c1-a1f4-0fd7ba11206d",
   "metadata": {},
   "outputs": [
    {
     "name": "stdout",
     "output_type": "stream",
     "text": [
      "{'java', 'c', 'python', 'c++', 'swift'}\n"
     ]
    }
   ],
   "source": [
    "#update items in sets \n",
    "lang={\"python\",\"c\",\"java\"}\n",
    "new_updates={\"swift\",\"c++\"}\n",
    "x=lang.update(new_updates)\n",
    "print(lang)"
   ]
  },
  {
   "cell_type": "code",
   "execution_count": 32,
   "id": "c25fe9b5-41ca-4d30-9217-68a464e6d005",
   "metadata": {},
   "outputs": [
    {
     "name": "stdout",
     "output_type": "stream",
     "text": [
      "set()\n"
     ]
    }
   ],
   "source": [
    "#clear()\n",
    "num={2,4,3,5,21}\n",
    "x=num.clear()\n",
    "print(num)"
   ]
  },
  {
   "cell_type": "code",
   "execution_count": 35,
   "id": "1b1b100b-c7f0-4f16-81e6-8e3144aba689",
   "metadata": {},
   "outputs": [
    {
     "name": "stdout",
     "output_type": "stream",
     "text": [
      "{2, 3, 4, 5, 21}\n"
     ]
    }
   ],
   "source": [
    "#copy()\n",
    "num={2,4,3,5,21}\n",
    "print(num.copy())"
   ]
  },
  {
   "cell_type": "code",
   "execution_count": 43,
   "id": "5b2f2d76-8803-4592-8648-90afe11e201f",
   "metadata": {},
   "outputs": [
    {
     "name": "stdout",
     "output_type": "stream",
     "text": [
      "{3, 4, 21}\n"
     ]
    }
   ],
   "source": [
    "#pop()\n",
    "num={4,3,5,21}\n",
    "x=num.pop()\n",
    "print(num)"
   ]
  },
  {
   "cell_type": "code",
   "execution_count": 42,
   "id": "7bfd311e-9f30-441d-8e75-fe06eb944890",
   "metadata": {},
   "outputs": [
    {
     "name": "stdout",
     "output_type": "stream",
     "text": [
      "{2, 3, 4, 21}\n"
     ]
    }
   ],
   "source": [
    "#remove()\n",
    "num={2,4,3,5,21}\n",
    "x=num.remove(5)\n",
    "print(num)"
   ]
  },
  {
   "cell_type": "code",
   "execution_count": null,
   "id": "ded0fb7e-83ed-402d-bd78-dc80a51386b7",
   "metadata": {},
   "outputs": [],
   "source": []
  }
 ],
 "metadata": {
  "kernelspec": {
   "display_name": "Python 3 (ipykernel)",
   "language": "python",
   "name": "python3"
  },
  "language_info": {
   "codemirror_mode": {
    "name": "ipython",
    "version": 3
   },
   "file_extension": ".py",
   "mimetype": "text/x-python",
   "name": "python",
   "nbconvert_exporter": "python",
   "pygments_lexer": "ipython3",
   "version": "3.12.4"
  }
 },
 "nbformat": 4,
 "nbformat_minor": 5
}
