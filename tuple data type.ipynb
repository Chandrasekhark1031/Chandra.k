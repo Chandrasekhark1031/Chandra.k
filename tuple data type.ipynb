{
 "cells": [
  {
   "cell_type": "code",
   "execution_count": 5,
   "id": "14441139-f984-4107-8d8a-48f791c1c346",
   "metadata": {},
   "outputs": [
    {
     "name": "stdout",
     "output_type": "stream",
     "text": [
      "()\n"
     ]
    }
   ],
   "source": [
    "# creating a tuple\n",
    "# empty tuple\n",
    "empty_tuple=()\n",
    "print(empty_tuple)"
   ]
  },
  {
   "cell_type": "code",
   "execution_count": 10,
   "id": "d00ee8f2-f088-493d-9875-3e2376fde913",
   "metadata": {},
   "outputs": [
    {
     "name": "stdout",
     "output_type": "stream",
     "text": [
      "<class 'tuple'>\n"
     ]
    }
   ],
   "source": [
    "# tuple with elements\n",
    "names=(\"shiva\",\"surya\",\"murali\",)\n",
    "print(type(names))"
   ]
  },
  {
   "cell_type": "code",
   "execution_count": 12,
   "id": "16516280-894d-45ac-b29c-44ee23b82c93",
   "metadata": {},
   "outputs": [
    {
     "name": "stdout",
     "output_type": "stream",
     "text": [
      "(7,)\n"
     ]
    }
   ],
   "source": [
    "# single element tuple\n",
    "single_element_tuple=(7,)\n",
    "print(single_element_tuple)\n",
    "        "
   ]
  },
  {
   "cell_type": "code",
   "execution_count": 13,
   "id": "b9864da8-7363-43d5-ae91-e250be7d0ed5",
   "metadata": {},
   "outputs": [
    {
     "name": "stdout",
     "output_type": "stream",
     "text": [
      "murali\n",
      "('shiva', 'surya')\n"
     ]
    }
   ],
   "source": [
    "# aceessing of tuples\n",
    "names=(\"shiva\",\"surya\",\"murali\",)\n",
    "print(names[2])    #index\n",
    "print(names[0:2])  #slicing\n"
   ]
  },
  {
   "cell_type": "code",
   "execution_count": 14,
   "id": "237da378-debb-4ad9-9f79-1113d40015dd",
   "metadata": {},
   "outputs": [
    {
     "ename": "TypeError",
     "evalue": "'tuple' object does not support item assignment",
     "output_type": "error",
     "traceback": [
      "\u001b[1;31m---------------------------------------------------------------------------\u001b[0m",
      "\u001b[1;31mTypeError\u001b[0m                                 Traceback (most recent call last)",
      "Cell \u001b[1;32mIn[14], line 3\u001b[0m\n\u001b[0;32m      1\u001b[0m \u001b[38;5;66;03m# immutable : once tuple is created cannot change,update,modify its elements\u001b[39;00m\n\u001b[0;32m      2\u001b[0m \u001b[38;5;28mtuple\u001b[39m\u001b[38;5;241m=\u001b[39m(\u001b[38;5;124m\"\u001b[39m\u001b[38;5;124mmahesh\u001b[39m\u001b[38;5;124m\"\u001b[39m,\u001b[38;5;124m\"\u001b[39m\u001b[38;5;124msurya\u001b[39m\u001b[38;5;124m\"\u001b[39m,\u001b[38;5;124m\"\u001b[39m\u001b[38;5;124mmurali\u001b[39m\u001b[38;5;124m\"\u001b[39m,\u001b[38;5;124m\"\u001b[39m\u001b[38;5;124mraju\u001b[39m\u001b[38;5;124m\"\u001b[39m,)\n\u001b[1;32m----> 3\u001b[0m \u001b[38;5;28mtuple\u001b[39m[\u001b[38;5;241m0\u001b[39m]\u001b[38;5;241m=\u001b[39m\u001b[38;5;124m\"\u001b[39m\u001b[38;5;124mshiva\u001b[39m\u001b[38;5;124m\"\u001b[39m\n\u001b[0;32m      4\u001b[0m \u001b[38;5;28mprint\u001b[39m(\u001b[38;5;28mtuple\u001b[39m)\n",
      "\u001b[1;31mTypeError\u001b[0m: 'tuple' object does not support item assignment"
     ]
    }
   ],
   "source": [
    "# immutable : once tuple is created cannot change,update,modify its elements\n",
    "tuple=(\"mahesh\",\"surya\",\"murali\",\"raju\",)\n",
    "tuple[0]=\"shiva\"\n",
    "print(tuple)      # cannot change"
   ]
  },
  {
   "cell_type": "code",
   "execution_count": 16,
   "id": "43eda860-6b64-43de-b309-d60fa50501bc",
   "metadata": {},
   "outputs": [
    {
     "name": "stdout",
     "output_type": "stream",
     "text": [
      "(2, 6, 4, 8, 'apple', 'banana', 'grape')\n"
     ]
    }
   ],
   "source": [
    "# type operation\n",
    "  # concatenation\n",
    "num=(2,6,4,8,)\n",
    "fruits=(\"apple\",\"banana\",\"grape\",)\n",
    "result=num+fruits\n",
    "print(result)"
   ]
  },
  {
   "cell_type": "code",
   "execution_count": 17,
   "id": "c5d562af-4b1c-47e6-b594-a9e4b86e659a",
   "metadata": {},
   "outputs": [
    {
     "name": "stdout",
     "output_type": "stream",
     "text": [
      "(2, 6, 4, 8, 2, 6, 4, 8, 2, 6, 4, 8, 2, 6, 4, 8, 2, 6, 4, 8)\n"
     ]
    }
   ],
   "source": [
    "# repetition\n",
    "num=(2,6,4,8,)\n",
    "result=num*5\n",
    "print(result)"
   ]
  },
  {
   "cell_type": "code",
   "execution_count": 19,
   "id": "c4fb0d82-2e16-4eb6-a241-ac394da4e245",
   "metadata": {},
   "outputs": [
    {
     "name": "stdout",
     "output_type": "stream",
     "text": [
      "4\n"
     ]
    }
   ],
   "source": [
    "# type methods\n",
    " # count()\n",
    "num=(1,2,3,3,4,6,5,7,3,8,3,)\n",
    "result=num.count(3)\n",
    "print(result)"
   ]
  },
  {
   "cell_type": "code",
   "execution_count": 15,
   "id": "37f565c9-2a49-4d03-bf1b-a76bf969ce6e",
   "metadata": {},
   "outputs": [
    {
     "name": "stdout",
     "output_type": "stream",
     "text": [
      "3\n"
     ]
    }
   ],
   "source": [
    "# index()\n",
    "num=(1,2,4,5,6,7,8,9)\n",
    "result=num.index(5)\n",
    "print(result)                          #0,1,2,3,4,5,....."
   ]
  },
  {
   "cell_type": "code",
   "execution_count": 10,
   "id": "785d0b32-087e-40b0-9f85-116b889dae8c",
   "metadata": {},
   "outputs": [
    {
     "name": "stdout",
     "output_type": "stream",
     "text": [
      "3\n",
      "4\n"
     ]
    }
   ],
   "source": [
    "#len()\n",
    "n=(\"python\",\"java\",\"c\",)\n",
    "n1=(4,3,8,9,)\n",
    "x=len(n)\n",
    "y=len(n1)\n",
    "print(x)\n",
    "print(y)"
   ]
  },
  {
   "cell_type": "code",
   "execution_count": null,
   "id": "40f7013f-0ce5-423e-87a0-775638e0aaea",
   "metadata": {},
   "outputs": [],
   "source": [
    "#index()\n",
    "tuple=(\"python\",\"java\",\"c\")\n",
    "print(tuple())"
   ]
  }
 ],
 "metadata": {
  "kernelspec": {
   "display_name": "Python 3 (ipykernel)",
   "language": "python",
   "name": "python3"
  },
  "language_info": {
   "codemirror_mode": {
    "name": "ipython",
    "version": 3
   },
   "file_extension": ".py",
   "mimetype": "text/x-python",
   "name": "python",
   "nbconvert_exporter": "python",
   "pygments_lexer": "ipython3",
   "version": "3.12.4"
  }
 },
 "nbformat": 4,
 "nbformat_minor": 5
}
