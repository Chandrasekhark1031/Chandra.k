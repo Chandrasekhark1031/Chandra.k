{
 "cells": [
  {
   "cell_type": "code",
   "execution_count": 4,
   "id": "2dfa95a9-4e01-4387-9601-f6f0e2525d17",
   "metadata": {},
   "outputs": [
    {
     "name": "stdout",
     "output_type": "stream",
     "text": [
      "False\n",
      "True\n",
      "True\n",
      "False\n",
      "True\n",
      "False\n"
     ]
    }
   ],
   "source": [
    "# comparision operator\n",
    "a=5\n",
    "b=2 \n",
    "\n",
    "print(a==b)# is equal to\n",
    "print(a!=b)# not equal\n",
    "print(a>b)# greater then\n",
    "print(a<b)#less than \n",
    "print(a>=b)#greater than equal to\n",
    "print(a<=b)#less than equal to\n",
    "\n",
    "\n"
   ]
  },
  {
   "cell_type": "code",
   "execution_count": null,
   "id": "aa77f1fc-6388-4df2-92fc-884ef45fbd02",
   "metadata": {},
   "outputs": [],
   "source": []
  },
  {
   "cell_type": "code",
   "execution_count": null,
   "id": "edc7b90e-ba8a-469b-9276-c51b6edbb4f0",
   "metadata": {},
   "outputs": [],
   "source": []
  }
 ],
 "metadata": {
  "kernelspec": {
   "display_name": "Python 3 (ipykernel)",
   "language": "python",
   "name": "python3"
  },
  "language_info": {
   "codemirror_mode": {
    "name": "ipython",
    "version": 3
   },
   "file_extension": ".py",
   "mimetype": "text/x-python",
   "name": "python",
   "nbconvert_exporter": "python",
   "pygments_lexer": "ipython3",
   "version": "3.12.4"
  }
 },
 "nbformat": 4,
 "nbformat_minor": 5
}
