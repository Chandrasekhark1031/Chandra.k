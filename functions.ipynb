{
 "cells": [
  {
   "cell_type": "code",
   "execution_count": 4,
   "id": "7f50765a-ba5b-483b-8cba-4ef588010ab6",
   "metadata": {},
   "outputs": [],
   "source": [
    "# functions: a function is a block of code that perforrms a specific task,you can pass data ,known as parameters\n",
    "# types:standard library function,user defined function\n",
    "#syntax: def function_name(arguments):  #function body\n",
    "#         return\n"
   ]
  },
  {
   "cell_type": "code",
   "execution_count": 6,
   "id": "1bb73bdb-6930-4760-ad54-ce320fc6421e",
   "metadata": {},
   "outputs": [
    {
     "name": "stdout",
     "output_type": "stream",
     "text": [
      "Hello, chandra!\n"
     ]
    }
   ],
   "source": [
    "def greet(name):\n",
    "    print(f\"Hello, {name}!\")\n",
    "greet(\"chandra\")\n"
   ]
  },
  {
   "cell_type": "code",
   "execution_count": 17,
   "id": "b85930c2-2f66-4afa-bab6-4b1def24ab50",
   "metadata": {},
   "outputs": [
    {
     "name": "stdout",
     "output_type": "stream",
     "text": [
      "14\n"
     ]
    }
   ],
   "source": [
    "def add_num(n1,n2):\n",
    "    sum=n1+n2\n",
    "    print(sum)\n",
    "add_num(5,9)"
   ]
  },
  {
   "cell_type": "code",
   "execution_count": 18,
   "id": "c2d0a05d-1bf8-4fef-a04d-1ac49aebf2ef",
   "metadata": {},
   "outputs": [
    {
     "name": "stdout",
     "output_type": "stream",
     "text": [
      "2 is even\n"
     ]
    }
   ],
   "source": [
    "def number(num):\n",
    "    if num%2 == 0:\n",
    "        print(f\"{num} is even\")\n",
    "    else:\n",
    "        print(f\"{num} is odd\")\n",
    "number(2)\n"
   ]
  },
  {
   "cell_type": "code",
   "execution_count": 15,
   "id": "0ec2568d-e167-453e-b6b6-8252d9d90043",
   "metadata": {},
   "outputs": [
    {
     "name": "stdout",
     "output_type": "stream",
     "text": [
      "4\n"
     ]
    }
   ],
   "source": [
    "def find_square(num):\n",
    "    result = num*num\n",
    "    #return result\n",
    "    print(result)\n",
    "find_square(2)\n"
   ]
  },
  {
   "cell_type": "code",
   "execution_count": 1,
   "id": "b934a4ef-a19f-40bf-8cc6-b753e62fd2de",
   "metadata": {},
   "outputs": [
    {
     "name": "stdout",
     "output_type": "stream",
     "text": [
      "120\n"
     ]
    }
   ],
   "source": [
    "x = lambda a:a+100\n",
    "print(x(20))"
   ]
  },
  {
   "cell_type": "code",
   "execution_count": 2,
   "id": "d92b791e-1b6a-4f3a-80d2-023e23b1876a",
   "metadata": {},
   "outputs": [
    {
     "name": "stdout",
     "output_type": "stream",
     "text": [
      "16\n"
     ]
    }
   ],
   "source": [
    "x=lambda a,b,c:a+b*c\n",
    "print(x(4,6,2))       #print(x(a))"
   ]
  },
  {
   "cell_type": "code",
   "execution_count": 5,
   "id": "54388053-cb7c-4e51-8aff-80183a522409",
   "metadata": {},
   "outputs": [
    {
     "name": "stdout",
     "output_type": "stream",
     "text": [
      "15\n"
     ]
    }
   ],
   "source": [
    "def func(n):\n",
    "    return lambda a:a*n\n",
    "x=func(5)\n",
    "print(x(3))"
   ]
  },
  {
   "cell_type": "code",
   "execution_count": 1,
   "id": "42187da6-70f6-45d0-8cee-7c07acc80843",
   "metadata": {},
   "outputs": [
    {
     "name": "stdin",
     "output_type": "stream",
     "text": [
      " tafa\n"
     ]
    },
    {
     "name": "stdout",
     "output_type": "stream",
     "text": [
      "Not a palindrome\n"
     ]
    }
   ],
   "source": [
    "def ispalindrome(s):\n",
    "  if s==s[::-1]:\n",
    "    return \"Palindrome\"\n",
    "  return \"Not a palindrome\"\n",
    "s=input()\n",
    "print(ispalindrome(s))"
   ]
  },
  {
   "cell_type": "code",
   "execution_count": null,
   "id": "f1a9c958-84d8-41a3-a0a4-42dbfdbff2a9",
   "metadata": {},
   "outputs": [],
   "source": []
  }
 ],
 "metadata": {
  "kernelspec": {
   "display_name": "Python 3 (ipykernel)",
   "language": "python",
   "name": "python3"
  },
  "language_info": {
   "codemirror_mode": {
    "name": "ipython",
    "version": 3
   },
   "file_extension": ".py",
   "mimetype": "text/x-python",
   "name": "python",
   "nbconvert_exporter": "python",
   "pygments_lexer": "ipython3",
   "version": "3.12.4"
  }
 },
 "nbformat": 4,
 "nbformat_minor": 5
}
