{
 "cells": [
  {
   "cell_type": "code",
   "execution_count": null,
   "id": "eec17206-9dd3-4d74-aa3a-28332933cb2a",
   "metadata": {},
   "outputs": [],
   "source": [
    "#bitwise\n",
    "a=5\n",
    "b=3\n",
    "c=4\n",
    "d=4 \n",
    "e=8\n",
    "f=7\n",
    "g=2\n",
    "h=7\n",
    "i=9\n",
    "j=5\n",
    "print(a&b)\n",
    "print(a|b)\n",
    "print(a^b)\n",
    "print(a~b)\n",
    "print(a<<b)\n",
    "print"
   ]
  }
 ],
 "metadata": {
  "kernelspec": {
   "display_name": "Python 3 (ipykernel)",
   "language": "python",
   "name": "python3"
  },
  "language_info": {
   "codemirror_mode": {
    "name": "ipython",
    "version": 3
   },
   "file_extension": ".py",
   "mimetype": "text/x-python",
   "name": "python",
   "nbconvert_exporter": "python",
   "pygments_lexer": "ipython3",
   "version": "3.12.4"
  }
 },
 "nbformat": 4,
 "nbformat_minor": 5
}
