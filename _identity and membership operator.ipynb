{
 "cells": [
  {
   "cell_type": "code",
   "execution_count": 6,
   "id": "41bb93f4-76ae-4036-8008-41e1ca176aa2",
   "metadata": {},
   "outputs": [
    {
     "name": "stdout",
     "output_type": "stream",
     "text": [
      "False\n",
      "True\n",
      "False\n",
      "True\n"
     ]
    }
   ],
   "source": [
    "#identity operator\n",
    "a=5\n",
    "b=3\n",
    "x=\"hello\"\n",
    "y=\"hello world\"\n",
    "print(a is b)\n",
    "print(a is not b)\n",
    "print(x is y)\n",
    "print(x is not y)"
   ]
  },
  {
   "cell_type": "code",
   "execution_count": 8,
   "id": "d018ce8d-d3d2-41a8-ba49-24d87c257fa8",
   "metadata": {},
   "outputs": [
    {
     "ename": "TypeError",
     "evalue": "argument of type 'int' is not iterable",
     "output_type": "error",
     "traceback": [
      "\u001b[1;31m---------------------------------------------------------------------------\u001b[0m",
      "\u001b[1;31mTypeError\u001b[0m                                 Traceback (most recent call last)",
      "Cell \u001b[1;32mIn[8], line 6\u001b[0m\n\u001b[0;32m      4\u001b[0m x\u001b[38;5;241m=\u001b[39m\u001b[38;5;124m\"\u001b[39m\u001b[38;5;124mHello\u001b[39m\u001b[38;5;124m\"\u001b[39m\n\u001b[0;32m      5\u001b[0m y\u001b[38;5;241m=\u001b[39m\u001b[38;5;124m\"\u001b[39m\u001b[38;5;124mhello world\u001b[39m\u001b[38;5;124m\"\u001b[39m\n\u001b[1;32m----> 6\u001b[0m \u001b[38;5;28mprint\u001b[39m(a \u001b[38;5;129;01min\u001b[39;00m b)\n\u001b[0;32m      7\u001b[0m \u001b[38;5;28mprint\u001b[39m(a \u001b[38;5;129;01mnot\u001b[39;00m \u001b[38;5;129;01min\u001b[39;00m b)\n\u001b[0;32m      8\u001b[0m \u001b[38;5;28mprint\u001b[39m(x \u001b[38;5;129;01min\u001b[39;00m y)\n",
      "\u001b[1;31mTypeError\u001b[0m: argument of type 'int' is not iterable"
     ]
    }
   ],
   "source": [
    "#membership operator\n",
    "a=5\n",
    "b=\"\"\n",
    "x=\"Hello\"\n",
    "y=\"hello world\"\n",
    "print(a in b)\n",
    "print(a not in\n",
    "print(x in y)\n",
    "print(x not in y)"
   ]
  },
  {
   "cell_type": "code",
   "execution_count": null,
   "id": "fa953d89-cc6b-46ab-92d3-db343624345a",
   "metadata": {},
   "outputs": [],
   "source": []
  }
 ],
 "metadata": {
  "kernelspec": {
   "display_name": "Python 3 (ipykernel)",
   "language": "python",
   "name": "python3"
  },
  "language_info": {
   "codemirror_mode": {
    "name": "ipython",
    "version": 3
   },
   "file_extension": ".py",
   "mimetype": "text/x-python",
   "name": "python",
   "nbconvert_exporter": "python",
   "pygments_lexer": "ipython3",
   "version": "3.12.4"
  }
 },
 "nbformat": 4,
 "nbformat_minor": 5
}
