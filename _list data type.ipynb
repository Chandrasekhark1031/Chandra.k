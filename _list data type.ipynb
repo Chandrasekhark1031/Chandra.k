{
 "cells": [
  {
   "cell_type": "code",
   "execution_count": 1,
   "id": "5461bbe7-6d73-4049-9fe2-120cf2cb2153",
   "metadata": {},
   "outputs": [],
   "source": [
    "#creating a list with elements\n",
    "numbers=[1,2,3,4,5,]\n",
    "names=[\"apple\",\"banana\",\"cherry\"]\n",
    "mixed_types=[1,\"apple\",2.13,True]"
   ]
  },
  {
   "cell_type": "code",
   "execution_count": 17,
   "id": "ead070af-b92c-443d-a81f-2f86cc53543e",
   "metadata": {},
   "outputs": [
    {
     "name": "stdout",
     "output_type": "stream",
     "text": [
      "python\n",
      "c++\n",
      "c\n",
      "0\n",
      "9\n",
      "1\n"
     ]
    }
   ],
   "source": [
    "#access list elements\n",
    "#postive index\n",
    "lang=[\"python\",\"java\",\"c\",\"c++\"]\n",
    "lst=[1,3,4,7,3,9,0,2]\n",
    "print(lang[0])\n",
    "print(lang[3])\n",
    "print(lang[2])\n",
    "print(lst[6])\n",
    "print(lst[5])\n",
    "print(lst[0])"
   ]
  },
  {
   "cell_type": "code",
   "execution_count": 19,
   "id": "2567b11a-758a-4ca1-be92-3f0309203610",
   "metadata": {},
   "outputs": [
    {
     "name": "stdout",
     "output_type": "stream",
     "text": [
      "4\n",
      "7\n",
      "2\n",
      "c++\n",
      "java\n"
     ]
    }
   ],
   "source": [
    "# negative index\n",
    "lang =[\"python\",\"java\",\"c\",\"c++\"]\n",
    "lst=[1,3,4,7,3,9,0,2]\n",
    "print(lst[-6])\n",
    "print(lst[-5])\n",
    "print(lst[-1])\n",
    "print(lang[-1])\n",
    "print(lang[-3])"
   ]
  },
  {
   "cell_type": "code",
   "execution_count": 20,
   "id": "2937f18c-ac13-4a99-978b-30f7fce16cca",
   "metadata": {},
   "outputs": [
    {
     "name": "stdout",
     "output_type": "stream",
     "text": [
      "[1, 3, 4, 7, 3, 9]\n",
      "[7, 3]\n",
      "[4, 7, 3, 9, 0]\n",
      "['java', 'c']\n",
      "['python', 'java']\n",
      "['java', 'c', 'c++']\n"
     ]
    }
   ],
   "source": [
    "# Slicing of a list\n",
    "lang =[\"python\",\"java\",\"c\",\"c++\"]\n",
    "lst=[1,3,4,7,3,9,0,2]\n",
    "print(lst[0:6])\n",
    "print(lst[3:5])     #n-1\n",
    "print(lst[2:7])\n",
    "print(lang[1:3])\n",
    "print(lang[0:2])\n",
    "print(lang[1:])"
   ]
  },
  {
   "cell_type": "code",
   "execution_count": 22,
   "id": "8bdbe7ac-da5e-42ed-902e-8680d99f6fdf",
   "metadata": {},
   "outputs": [
    {
     "name": "stdout",
     "output_type": "stream",
     "text": [
      "[4, 7, 3]\n",
      "[7]\n",
      "[3, 4, 7, 3, 9]\n",
      "['java', 'c']\n",
      "['python', 'java']\n"
     ]
    }
   ],
   "source": [
    "lang =[\"python\",\"java\",\"c\",\"c++\"]\n",
    "lst=[1,3,4,7,3,9,0,2]\n",
    "print(lst[-6:-3])\n",
    "print(lst[-5:-4])   #n+1\n",
    "print(lst[-7:-2])\n",
    "print(lang[-3:-1])\n",
    "print(lang[-4:-2])\n"
   ]
  },
  {
   "cell_type": "code",
   "execution_count": 23,
   "id": "b8d967d5-88cf-4d2d-b950-7742f31a2173",
   "metadata": {},
   "outputs": [
    {
     "name": "stdout",
     "output_type": "stream",
     "text": [
      "['python', 'java', 'c', 'raju', 'shiva', 'sai']\n",
      "[1, 2, 3, 3, 4, 5, 6]\n"
     ]
    }
   ],
   "source": [
    "# List operation\n",
    "  # concatenation\n",
    "  #repetition\n",
    "\n",
    "# concatenation\n",
    "a=[1,2,3]\n",
    "b=[3,4,5,6,]\n",
    "lst=[\"python\",\"java\",\"c\"]\n",
    "lst1=[\"raju\",\"shiva\",\"sai\"]\n",
    "lst2=lst+lst1\n",
    "print(lst2)\n",
    "c=a+b\n",
    "print(c)"
   ]
  },
  {
   "cell_type": "code",
   "execution_count": 24,
   "id": "e87c8c99-a52f-4ea8-9737-13f1086cfb31",
   "metadata": {},
   "outputs": [
    {
     "name": "stdout",
     "output_type": "stream",
     "text": [
      "['python', 'java', 'c', 'python', 'java', 'c', 'python', 'java', 'c']\n",
      "[1, 2, 3, 4, 1, 2, 3, 4, 1, 2, 3, 4, 1, 2, 3, 4, 1, 2, 3, 4, 1, 2, 3, 4]\n"
     ]
    }
   ],
   "source": [
    "# Repetition\n",
    "a =[1,2,3,4,]\n",
    "lst=[\"python\",\"java\",\"c\"]\n",
    "lst1=lst*3\n",
    "print(lst1)\n",
    "b=a*6\n",
    "print(b)"
   ]
  },
  {
   "cell_type": "code",
   "execution_count": 26,
   "id": "5f683ed8-87a3-4241-b356-a362e5cc68ca",
   "metadata": {},
   "outputs": [
    {
     "name": "stdout",
     "output_type": "stream",
     "text": [
      "['apple', 'apple', 'cherry', 'mango']\n"
     ]
    }
   ],
   "source": [
    "# change list items\n",
    "lst=[\"apple\",\"banana\",\"cherry\",\"mango\"]\n",
    "lst[1]=\"apple\"\n",
    "print(lst)"
   ]
  },
  {
   "cell_type": "code",
   "execution_count": 27,
   "id": "5a74b144-def2-4be5-9c0a-8dafc1366010",
   "metadata": {},
   "outputs": [
    {
     "name": "stdout",
     "output_type": "stream",
     "text": [
      "['apple', 'grape', 'kiwi', 'mango']\n"
     ]
    }
   ],
   "source": [
    "# change a range of item values\n",
    "lst=[\"apple\",\"banana\",\"cherry\",\"mango\"]\n",
    "lst[1:3]=\"grape\",\"kiwi\"\n",
    "print(lst)"
   ]
  },
  {
   "cell_type": "code",
   "execution_count": 33,
   "id": "a2370b8b-9e03-4c10-b33c-3c0c9f147f2f",
   "metadata": {},
   "outputs": [
    {
     "name": "stdout",
     "output_type": "stream",
     "text": [
      "[1, 2, 3, (3, 4, 5, 6)]\n"
     ]
    }
   ],
   "source": [
    "# list methods:\n",
    "# append(): adds an element to the end of list\n",
    "num=[1,2,3]\n",
    "num.append(6)  #only 0ne element(6)\n",
    "print(num)\n"
   ]
  },
  {
   "cell_type": "code",
   "execution_count": 31,
   "id": "b59cde7e-9643-4183-ad43-db4f43a56900",
   "metadata": {},
   "outputs": [
    {
     "name": "stdout",
     "output_type": "stream",
     "text": [
      "[1, 2, 3, 3, 4, 5, 6]\n"
     ]
    }
   ],
   "source": [
    "# extend(): more than one elements\n",
    "num=[1,2,3]\n",
    "more_num=[3,4,5,6]\n",
    "num.extend(more_num)\n",
    "print(num)"
   ]
  },
  {
   "cell_type": "code",
   "execution_count": 37,
   "id": "9cdc73ee-8336-4d01-9a85-26f325ed643f",
   "metadata": {},
   "outputs": [
    {
     "name": "stdout",
     "output_type": "stream",
     "text": [
      "[1, 5, 3, 8, 2, 6, 7]\n"
     ]
    }
   ],
   "source": [
    "# insert()\n",
    "num=[1,5,8,2,7]\n",
    "num.insert(2,3)   # positive = 0,1,2,3....\n",
    "num.insert(-1,6)  # negative = -1,-2,-3....\n",
    "print(num)"
   ]
  },
  {
   "cell_type": "code",
   "execution_count": 39,
   "id": "f312848a-4c9f-4131-84ac-5877c02e1d6a",
   "metadata": {},
   "outputs": [
    {
     "name": "stdout",
     "output_type": "stream",
     "text": [
      "[1, 2, 3, 4, 5]\n"
     ]
    }
   ],
   "source": [
    "# remove()\n",
    "num=[1,4,2,3,4,5]\n",
    "num.remove(4)\n",
    "print(num)"
   ]
  },
  {
   "cell_type": "code",
   "execution_count": 46,
   "id": "cb521ddf-bd97-4070-b267-55f15946099c",
   "metadata": {},
   "outputs": [
    {
     "name": "stdout",
     "output_type": "stream",
     "text": [
      "[1, 2, 3, 4, 5, 6, 8]\n",
      "7\n"
     ]
    }
   ],
   "source": [
    "# pop()\n",
    "num=[1,2,3,4,5,6,7,8]\n",
    "popped_element = num.pop(6)\n",
    "print(num)                   # 0,1,2,3,4,5,6,7,....\n",
    "print(popped_element)"
   ]
  },
  {
   "cell_type": "code",
   "execution_count": 48,
   "id": "d2a22381-ccb8-43bf-be95-a92e5be36296",
   "metadata": {},
   "outputs": [
    {
     "name": "stdout",
     "output_type": "stream",
     "text": [
      "4\n"
     ]
    }
   ],
   "source": [
    "# index()\n",
    "num = [10,20,30,40,50,30,60,70]\n",
    "index=num.index(50)    # o,1,2,3,4,5,6.....\n",
    "print(index)"
   ]
  },
  {
   "cell_type": "code",
   "execution_count": 50,
   "id": "7ec2e681-2ca9-4741-aed0-814e67381fd2",
   "metadata": {},
   "outputs": [
    {
     "name": "stdout",
     "output_type": "stream",
     "text": [
      "5\n"
     ]
    }
   ],
   "source": [
    "# count()\n",
    "num=[1,2,3,2,4,2,5,6,7,2,8,9,2]\n",
    "count=num.count(2)\n",
    "print(count)"
   ]
  },
  {
   "cell_type": "code",
   "execution_count": 52,
   "id": "be320a22-fdb4-4f2f-9f69-a6a1fc79d647",
   "metadata": {},
   "outputs": [
    {
     "name": "stdout",
     "output_type": "stream",
     "text": [
      "[0, 1, 2, 3, 4, 5, 6, 7, 8, 9]\n"
     ]
    }
   ],
   "source": [
    "# sort(): assending order\n",
    "num = [9,8,6,7,5,0,1,2,4,3]\n",
    "num.sort()\n",
    "print(num)"
   ]
  },
  {
   "cell_type": "code",
   "execution_count": 53,
   "id": "bdea9e20-069d-444b-b20d-ed9a4d2a8f50",
   "metadata": {},
   "outputs": [
    {
     "name": "stdout",
     "output_type": "stream",
     "text": [
      "['Apple', 'Banana', 'Za', 'apple', 'cherry', 'raj']\n"
     ]
    }
   ],
   "source": [
    "# sort(): assending order --- capital letter first,small letters next\n",
    "words = [\"raj\",\"apple\",\"Za\",\"Banana\",\"cherry\",\"Apple\"]\n",
    "words.sort()\n",
    "print(words)\n"
   ]
  },
  {
   "cell_type": "code",
   "execution_count": 14,
   "id": "038177e3-5aa2-4d03-b6b7-35479f170334",
   "metadata": {},
   "outputs": [
    {
     "name": "stdout",
     "output_type": "stream",
     "text": [
      "[2, 0, 9, 3, 7, 6, 1]\n"
     ]
    }
   ],
   "source": [
    "# reverse()\n",
    "num=[1,6,7,3,9,0,2,]\n",
    "num.reverse()\n",
    "print(num)"
   ]
  },
  {
   "cell_type": "code",
   "execution_count": 11,
   "id": "2d6b7751-137b-4144-a0cd-129439a9d011",
   "metadata": {
    "scrolled": true
   },
   "outputs": [
    {
     "name": "stdout",
     "output_type": "stream",
     "text": [
      "[1, 2, 3, 4, 5]\n"
     ]
    }
   ],
   "source": [
    "# copy()\n",
    "num=[1,2,3,4,5]\n",
    "num1=num.copy()\n",
    "print(num1)"
   ]
  },
  {
   "cell_type": "code",
   "execution_count": 16,
   "id": "bb73c4bd-9bcd-414d-98e7-70111f67ad42",
   "metadata": {},
   "outputs": [
    {
     "name": "stdout",
     "output_type": "stream",
     "text": [
      "[]\n"
     ]
    }
   ],
   "source": [
    "# clear()\n",
    "num =[1,2,3,4]\n",
    "num.clear()\n",
    "print(num)"
   ]
  },
  {
   "cell_type": "code",
   "execution_count": null,
   "id": "7d738a9f-5641-404b-8da2-2346c32996da",
   "metadata": {},
   "outputs": [],
   "source": []
  }
 ],
 "metadata": {
  "kernelspec": {
   "display_name": "Python 3 (ipykernel)",
   "language": "python",
   "name": "python3"
  },
  "language_info": {
   "codemirror_mode": {
    "name": "ipython",
    "version": 3
   },
   "file_extension": ".py",
   "mimetype": "text/x-python",
   "name": "python",
   "nbconvert_exporter": "python",
   "pygments_lexer": "ipython3",
   "version": "3.12.4"
  }
 },
 "nbformat": 4,
 "nbformat_minor": 5
}
