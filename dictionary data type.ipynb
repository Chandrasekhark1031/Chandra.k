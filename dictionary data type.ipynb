{
 "cells": [
  {
   "cell_type": "code",
   "execution_count": 1,
   "id": "de178aa8-d99b-431b-aa4f-81d9dc67f400",
   "metadata": {},
   "outputs": [
    {
     "name": "stdout",
     "output_type": "stream",
     "text": [
      "{'name': 'eswar', 'age': 23, 'grade': [20, 30, 40]}\n"
     ]
    }
   ],
   "source": [
    "#dictionary: \n",
    "#empty dictionary\n",
    "empty_dict={}\n",
    "\n",
    "# dictionary with key-values pair\n",
    "student={'name':'eswar','age':23,'grade':'A'}\n",
    "\n",
    "#dict={key:value,key:value,...}---syntax\n",
    "\n",
    "\n",
    "# dictionary with mixed data types\n",
    "mixed_dict={\n",
    "'name':'eswar','age':23,'grade':[20,30,40]}\n",
    "print(mixed_dict)\n"
   ]
  },
  {
   "cell_type": "code",
   "execution_count": 3,
   "id": "28390276-16ff-4994-ac11-55f95e89a861",
   "metadata": {},
   "outputs": [
    {
     "name": "stdout",
     "output_type": "stream",
     "text": [
      "{}\n",
      "{'name': 'eswar', 'age': 23, 'grade': 'A'}\n",
      "{'name': 'eswar', 'age': 23, 'grade': [20, 30, 40]}\n"
     ]
    }
   ],
   "source": [
    "print(empty_dict)\n",
    "print(student)\n",
    "print(mixed_dict)"
   ]
  },
  {
   "cell_type": "code",
   "execution_count": 5,
   "id": "f5e5f1fc-767f-4e0c-b192-0ed62b412308",
   "metadata": {},
   "outputs": [
    {
     "name": "stdout",
     "output_type": "stream",
     "text": [
      "23\n",
      "eswar\n"
     ]
    }
   ],
   "source": [
    "# accessing values\n",
    "# dictionary with key-values pair\n",
    "student={'name':'eswar','age':23,'grade':'A'}\n",
    "\n",
    "\n",
    "# dictionary with mixed data types\n",
    "mixed_dict={'name':'eswar','age':23,'grade':[20,30,40]}\n",
    "print(student['age'])\n",
    "print(mixed_dict['name'])\n",
    "\n"
   ]
  },
  {
   "cell_type": "code",
   "execution_count": 6,
   "id": "2d649227-7b55-4584-baaa-cbfc76330bc2",
   "metadata": {},
   "outputs": [],
   "source": [
    "# modifing and adding entries\n",
    "student={'name':'eswar','age':23,'grade':'A'}\n"
   ]
  },
  {
   "cell_type": "code",
   "execution_count": 9,
   "id": "b26cbda8-8249-4dc5-b9c3-e20ef3fd4d20",
   "metadata": {},
   "outputs": [
    {
     "name": "stdout",
     "output_type": "stream",
     "text": [
      "{'name': 'eswar', 'age': 30, 'grade': 'A', 'gender': 'male', 'qualification': 'b.tech'}\n"
     ]
    }
   ],
   "source": [
    "# modifing an entry\n",
    "student['age']=30\n",
    "\n",
    "# adding new entries\n",
    "student['gender']='male'\n",
    "student['qualification']='b.tech'\n",
    "print(student)"
   ]
  },
  {
   "cell_type": "code",
   "execution_count": 19,
   "id": "f868283d-699e-41f6-9334-fb24d5ac2bab",
   "metadata": {},
   "outputs": [
    {
     "name": "stdout",
     "output_type": "stream",
     "text": [
      "no value\n",
      "23\n"
     ]
    }
   ],
   "source": [
    "# dictionary methods\n",
    "\n",
    "# get();\n",
    "student={'name':'eswar','age':23,'grade':'A'}\n",
    "x=student.get('age')\n",
    "y=student.get('location','no value')\n",
    "print(y)\n",
    "print(x)"
   ]
  },
  {
   "cell_type": "code",
   "execution_count": 20,
   "id": "84b88946-7b2c-4908-9f95-27591365490c",
   "metadata": {},
   "outputs": [
    {
     "name": "stdout",
     "output_type": "stream",
     "text": [
      "dict_keys(['name', 'age', 'grade'])\n"
     ]
    }
   ],
   "source": [
    "#keys()\n",
    "student={'name':'eswar','age':23,'grade':'A'}\n",
    "x=student.keys()\n",
    "print(x)"
   ]
  },
  {
   "cell_type": "code",
   "execution_count": 21,
   "id": "8fa4f07c-76ee-4af5-8257-2dd578fd6ce4",
   "metadata": {},
   "outputs": [
    {
     "name": "stdout",
     "output_type": "stream",
     "text": [
      "dict_values(['eswar', 23, 'A'])\n"
     ]
    }
   ],
   "source": [
    "#values()\n",
    "student={'name':'eswar','age':23,'grade':'A'}\n",
    "x=student.values()\n",
    "print(x)"
   ]
  },
  {
   "cell_type": "code",
   "execution_count": 22,
   "id": "61c51b97-689a-4c66-8720-cff223686153",
   "metadata": {},
   "outputs": [
    {
     "name": "stdout",
     "output_type": "stream",
     "text": [
      "dict_items([('name', 'eswar'), ('age', 23), ('grade', 'A')])\n"
     ]
    }
   ],
   "source": [
    "#items()\n",
    "student={'name':'eswar','age':23,'grade':'A'}\n",
    "x=student.items()\n",
    "print(x)"
   ]
  },
  {
   "cell_type": "code",
   "execution_count": 25,
   "id": "ac73aa7f-408d-43dc-a252-ecb8bec24478",
   "metadata": {},
   "outputs": [
    {
     "name": "stdout",
     "output_type": "stream",
     "text": [
      "{'telangana': 'hyderabad', 'tamil nadu': 'chennai'}\n"
     ]
    }
   ],
   "source": [
    "# pop()\n",
    "state_capitals={\"andhra pradesh\":\"amaravathi\",\n",
    "               \"telangana\":\"hyderabad\",           # removes the element with specified key\n",
    "               \"tamil nadu\":\"chennai\"}\n",
    "capital=state_capitals.pop(\"andhra pradesh\")\n",
    "print(state_capitals)"
   ]
  },
  {
   "cell_type": "code",
   "execution_count": 3,
   "id": "19622a77-f5f0-4d07-8699-713c9b75a929",
   "metadata": {},
   "outputs": [
    {
     "name": "stdout",
     "output_type": "stream",
     "text": [
      "('tamil nadu', 'chennai')\n"
     ]
    }
   ],
   "source": [
    "# popitem()\n",
    "state_capitals={\"andhra pradesh\":\"amaravathi\",\n",
    "               \"telangana\":\"hyderabad\",\n",
    "               \"tamil nadu\":\"chennai\"}        # print the last value\n",
    "x=state_capitals.popitem()\n",
    "print(x)"
   ]
  },
  {
   "cell_type": "code",
   "execution_count": 11,
   "id": "4ccf44fc-1dda-4415-b29d-153e19a04ce4",
   "metadata": {},
   "outputs": [
    {
     "name": "stdout",
     "output_type": "stream",
     "text": [
      "{'andhra pradesh': 'amaravathi', 'telangana': 'hyderabad', 'tamil nadu': 'chennai'}\n"
     ]
    }
   ],
   "source": [
    "#update()\n",
    "\n",
    "state_capitals={\"andhra pradesh\":\"visakhapatnam\",\n",
    "               \"telangana\":\"hyderabad\",\n",
    "               \"tamil nadu\":\"chennai\"}\n",
    "new_data={\"andhra pradesh\":\"amaravathi\"}\n",
    "x=state_capitals.update(new_data)\n",
    "print(state_capitals)"
   ]
  },
  {
   "cell_type": "code",
   "execution_count": 16,
   "id": "a39d18e1-7787-4d50-8339-6ee24e41487f",
   "metadata": {},
   "outputs": [
    {
     "name": "stdout",
     "output_type": "stream",
     "text": [
      "{'andhra pradesh': 'amaravathi', 'telangana': 'hyderabad', 'tamil nadu': 'chennai'}\n"
     ]
    }
   ],
   "source": [
    "#copy()\n",
    "\n",
    "state_capitals={\"andhra pradesh\":\"amaravathi\",\n",
    "               \"telangana\":\"hyderabad\",\n",
    "               \"tamil nadu\":\"chennai\"}\n",
    "x=state_capitals.copy()\n",
    "print(x)"
   ]
  },
  {
   "cell_type": "code",
   "execution_count": 24,
   "id": "eddd65e0-8b9f-49fb-8383-67582b628698",
   "metadata": {},
   "outputs": [
    {
     "data": {
      "text/plain": [
       "{'key1': 0, 'key2': 0, 'key3': 0}"
      ]
     },
     "execution_count": 24,
     "metadata": {},
     "output_type": "execute_result"
    }
   ],
   "source": [
    "#fromkeys()\n",
    "x=('key1','key2','key3')\n",
    "y=0\n",
    "z=dict.fromkeys(x,y)\n",
    "z"
   ]
  },
  {
   "cell_type": "code",
   "execution_count": 27,
   "id": "e34e5766-ca35-4472-a208-8d4c2d4534fc",
   "metadata": {},
   "outputs": [
    {
     "name": "stdout",
     "output_type": "stream",
     "text": [
      "{}\n"
     ]
    }
   ],
   "source": [
    "#clear()\n",
    "\n",
    "state_capitals={\"andhra pradesh\":\"amaravathi\",\n",
    "               \"telangana\":\"hyderabad\",\n",
    "               \"tamil nadu\":\"chennai\"}\n",
    "x=state_capitals.clear()\n",
    "print(state_capitals)"
   ]
  },
  {
   "cell_type": "code",
   "execution_count": null,
   "id": "e937dc9a-a793-410e-ac38-21f23c492ae0",
   "metadata": {},
   "outputs": [],
   "source": []
  }
 ],
 "metadata": {
  "kernelspec": {
   "display_name": "Python 3 (ipykernel)",
   "language": "python",
   "name": "python3"
  },
  "language_info": {
   "codemirror_mode": {
    "name": "ipython",
    "version": 3
   },
   "file_extension": ".py",
   "mimetype": "text/x-python",
   "name": "python",
   "nbconvert_exporter": "python",
   "pygments_lexer": "ipython3",
   "version": "3.12.4"
  }
 },
 "nbformat": 4,
 "nbformat_minor": 5
}
