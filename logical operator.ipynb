{
 "cells": [
  {
   "cell_type": "code",
   "execution_count": 5,
   "id": "31d7faf5-1301-4ed5-963b-2c1dbfc0dd3d",
   "metadata": {},
   "outputs": [
    {
     "name": "stdout",
     "output_type": "stream",
     "text": [
      "False\n",
      "True\n",
      "True\n"
     ]
    }
   ],
   "source": [
    "#logical operator\n",
    "a=5\n",
    "b=2\n",
    "print(a>b and a<b ) #and operator\n",
    "print(a>b or a<b) #or operator\n",
    "print(not(a>b and a<b)) #not operator"
   ]
  },
  {
   "cell_type": "code",
   "execution_count": null,
   "id": "61eee74a-edb3-4f19-b8ae-5b38988672ad",
   "metadata": {},
   "outputs": [],
   "source": []
  }
 ],
 "metadata": {
  "kernelspec": {
   "display_name": "Python 3 (ipykernel)",
   "language": "python",
   "name": "python3"
  },
  "language_info": {
   "codemirror_mode": {
    "name": "ipython",
    "version": 3
   },
   "file_extension": ".py",
   "mimetype": "text/x-python",
   "name": "python",
   "nbconvert_exporter": "python",
   "pygments_lexer": "ipython3",
   "version": "3.12.4"
  }
 },
 "nbformat": 4,
 "nbformat_minor": 5
}
