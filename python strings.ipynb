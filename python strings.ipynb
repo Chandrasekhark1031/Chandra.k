{
 "cells": [
  {
   "cell_type": "code",
   "execution_count": 1,
   "id": "030b3a79-d200-484b-ba6a-c994753e9486",
   "metadata": {},
   "outputs": [
    {
     "name": "stdout",
     "output_type": "stream",
     "text": [
      "python\n",
      "pyhton\n",
      "python\n"
     ]
    }
   ],
   "source": [
    "# string is a sequence of characters.we use single ,double quotes to represent a string\n",
    "str1= 'python'\n",
    "str2=\"pyhton\"\n",
    "str3=\"\"\"python\"\"\"\n",
    "print(str1)\n",
    "print(str2)\n",
    "print(str3)"
   ]
  },
  {
   "cell_type": "code",
   "execution_count": 2,
   "id": "09470073-56f1-4911-9a4e-9d9ef59ba4b6",
   "metadata": {},
   "outputs": [
    {
     "name": "stdout",
     "output_type": "stream",
     "text": [
      "Hello  World\n"
     ]
    }
   ],
   "source": [
    "# string operations\n",
    "# concatenaton\n",
    "str1=\"Hello \"\n",
    "str2=\" World\"\n",
    "result=str1+str2\n",
    "print(result)"
   ]
  },
  {
   "cell_type": "code",
   "execution_count": 3,
   "id": "79d395f2-1b6b-4a36-a5bc-742626c828b5",
   "metadata": {},
   "outputs": [
    {
     "name": "stdout",
     "output_type": "stream",
     "text": [
      "python python python python python python python \n"
     ]
    }
   ],
   "source": [
    "# repetition\n",
    "str= \"python \"\n",
    "result= str*7\n",
    "print(result)"
   ]
  },
  {
   "cell_type": "code",
   "execution_count": 5,
   "id": "5d4b9395-c5f7-41a7-8684-eee796ea7c6d",
   "metadata": {},
   "outputs": [
    {
     "name": "stdout",
     "output_type": "stream",
     "text": [
      "h\n",
      "o\n"
     ]
    }
   ],
   "source": [
    "# indexing\n",
    "str=\"python\"\n",
    "print(str[3])\n",
    "print(str[-2])"
   ]
  },
  {
   "cell_type": "code",
   "execution_count": 9,
   "id": "14580abe-7620-4360-ace7-82771496fc94",
   "metadata": {},
   "outputs": [
    {
     "name": "stdout",
     "output_type": "stream",
     "text": [
      "ython \n",
      "n is f\n"
     ]
    }
   ],
   "source": [
    "#slicing\n",
    "str =\"python is fun\"\n",
    "print(str[1:7])\n",
    "print(str[-8:-2])"
   ]
  },
  {
   "cell_type": "code",
   "execution_count": 10,
   "id": "6b7d7ea7-a02b-418c-a2dc-cd974b7eaaa3",
   "metadata": {},
   "outputs": [
    {
     "name": "stdout",
     "output_type": "stream",
     "text": [
      " my name is sai snd iam 30 years old.\n"
     ]
    }
   ],
   "source": [
    "#format string\n",
    "#python 1\n",
    "name=\"sai\"\n",
    "age=30\n",
    "formatted_str= \" my name is %s snd iam %d years old.\" %(name,age)\n",
    "print(formatted_str)"
   ]
  },
  {
   "cell_type": "code",
   "execution_count": 12,
   "id": "fbec7554-cf33-447a-a4c5-8f88d98df435",
   "metadata": {},
   "outputs": [
    {
     "name": "stdout",
     "output_type": "stream",
     "text": [
      " my name is sai snd iam 30 years old.\n"
     ]
    }
   ],
   "source": [
    "# python 2\n",
    "name=\"sai\"\n",
    "age=30\n",
    "formatted_str= \" my name is {} snd iam {} years old.\".format(name,age)\n",
    "print(formatted_str)"
   ]
  },
  {
   "cell_type": "code",
   "execution_count": 13,
   "id": "b9c6be45-efb4-40f2-864c-2d8ecf679bc6",
   "metadata": {},
   "outputs": [
    {
     "name": "stdout",
     "output_type": "stream",
     "text": [
      " my name is sai snd iam 30 years old.\n"
     ]
    }
   ],
   "source": [
    "# python 3\n",
    "name=\"sai\"\n",
    "age=30\n",
    "formatted_str= f\" my name is {name} snd iam {age} years old.\"\n",
    "print(formatted_str)"
   ]
  },
  {
   "cell_type": "code",
   "execution_count": 14,
   "id": "213a8cf0-cadb-4cd9-9020-ac7507f494de",
   "metadata": {},
   "outputs": [
    {
     "name": "stdout",
     "output_type": "stream",
     "text": [
      "6\n"
     ]
    }
   ],
   "source": [
    "#string methods\n",
    "# len()\n",
    "str=\"python\"\n",
    "print(len(str))"
   ]
  },
  {
   "cell_type": "code",
   "execution_count": 15,
   "id": "19e8b138-a7c6-4fa9-bcfb-4c2c0fdc1cdc",
   "metadata": {},
   "outputs": [
    {
     "name": "stdout",
     "output_type": "stream",
     "text": [
      "PYTHON\n"
     ]
    }
   ],
   "source": [
    "# lower()  / upper()\n",
    "str =\"python\"\n",
    "print(str.upper())"
   ]
  },
  {
   "cell_type": "code",
   "execution_count": 16,
   "id": "688de76d-bdb5-4417-97d4-ce71643a1674",
   "metadata": {},
   "outputs": [
    {
     "name": "stdout",
     "output_type": "stream",
     "text": [
      "python\n"
     ]
    }
   ],
   "source": [
    "str=\"PYTHON\"\n",
    "print(str.lower())"
   ]
  },
  {
   "cell_type": "code",
   "execution_count": 17,
   "id": "b0667e59-e361-4224-87bc-3a2449857759",
   "metadata": {},
   "outputs": [
    {
     "name": "stdout",
     "output_type": "stream",
     "text": [
      "python\n"
     ]
    }
   ],
   "source": [
    "# strip()\n",
    "str=\"  python  \"\n",
    "print(str.strip())"
   ]
  },
  {
   "cell_type": "code",
   "execution_count": 32,
   "id": "fc3ac7db-9eff-4381-8d1b-83d24f0d45fb",
   "metadata": {},
   "outputs": [
    {
     "name": "stdout",
     "output_type": "stream",
     "text": [
      "Hello Good\n"
     ]
    }
   ],
   "source": [
    "# replace()\n",
    "g=\"hi Good\"\n",
    "h=g.replace(\"hi\", \"Hello\")\n",
    "print(h)"
   ]
  },
  {
   "cell_type": "code",
   "execution_count": 36,
   "id": "2d31b258-128e-44fe-b98a-114666236014",
   "metadata": {},
   "outputs": [
    {
     "name": "stdout",
     "output_type": "stream",
     "text": [
      "['python', 'is', 'fun']\n"
     ]
    }
   ],
   "source": [
    "#split()\n",
    "my_string=\"python is fun\"\n",
    "words=my_string.split()\n",
    "print(words)"
   ]
  },
  {
   "cell_type": "code",
   "execution_count": 44,
   "id": "b19c5d8d-b94b-4d9d-935e-80c143bc5f8c",
   "metadata": {},
   "outputs": [
    {
     "name": "stdout",
     "output_type": "stream",
     "text": [
      "pythonisfun\n"
     ]
    }
   ],
   "source": [
    "#join()\n",
    "words=[\"python\",\" is\",\"fun\"]\n",
    "joined_str='' .join(words)  \n",
    "print(joined_str)"
   ]
  },
  {
   "cell_type": "code",
   "execution_count": null,
   "id": "7e81556f-44cd-4642-a635-a306551e3839",
   "metadata": {},
   "outputs": [],
   "source": []
  },
  {
   "cell_type": "code",
   "execution_count": null,
   "id": "6e82b08d-8554-45fd-847b-789189634b9a",
   "metadata": {},
   "outputs": [],
   "source": []
  }
 ],
 "metadata": {
  "kernelspec": {
   "display_name": "Python 3 (ipykernel)",
   "language": "python",
   "name": "python3"
  },
  "language_info": {
   "codemirror_mode": {
    "name": "ipython",
    "version": 3
   },
   "file_extension": ".py",
   "mimetype": "text/x-python",
   "name": "python",
   "nbconvert_exporter": "python",
   "pygments_lexer": "ipython3",
   "version": "3.12.4"
  }
 },
 "nbformat": 4,
 "nbformat_minor": 5
}
