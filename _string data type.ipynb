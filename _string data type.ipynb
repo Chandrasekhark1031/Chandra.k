{
 "cells": [
  {
   "cell_type": "code",
   "execution_count": 1,
   "id": "030b3a79-d200-484b-ba6a-c994753e9486",
   "metadata": {},
   "outputs": [
    {
     "name": "stdout",
     "output_type": "stream",
     "text": [
      "python\n",
      "pyhton\n",
      "python\n"
     ]
    }
   ],
   "source": [
    "# string is a sequence of characters.we use single ,double quotes to represent a string\n",
    "str1= 'python'\n",
    "str2=\"pyhton\"\n",
    "str3=\"\"\"python\"\"\"\n",
    "print(str1)\n",
    "print(str2)\n",
    "print(str3)"
   ]
  },
  {
   "cell_type": "code",
   "execution_count": 2,
   "id": "09470073-56f1-4911-9a4e-9d9ef59ba4b6",
   "metadata": {},
   "outputs": [
    {
     "name": "stdout",
     "output_type": "stream",
     "text": [
      "Hello  World\n"
     ]
    }
   ],
   "source": [
    "# string operations\n",
    "# concatenaton\n",
    "str1=\"Hello \"\n",
    "str2=\" World\"\n",
    "result=str1+str2\n",
    "print(result)"
   ]
  },
  {
   "cell_type": "code",
   "execution_count": 3,
   "id": "79d395f2-1b6b-4a36-a5bc-742626c828b5",
   "metadata": {},
   "outputs": [
    {
     "name": "stdout",
     "output_type": "stream",
     "text": [
      "python python python python python python python \n"
     ]
    }
   ],
   "source": [
    "# repetition\n",
    "str= \"python \"\n",
    "result= str*7\n",
    "print(result)"
   ]
  },
  {
   "cell_type": "code",
   "execution_count": 5,
   "id": "5d4b9395-c5f7-41a7-8684-eee796ea7c6d",
   "metadata": {},
   "outputs": [
    {
     "name": "stdout",
     "output_type": "stream",
     "text": [
      "h\n",
      "o\n"
     ]
    }
   ],
   "source": [
    "# indexing\n",
    "str=\"python\"\n",
    "print(str[3])\n",
    "print(str[-2])"
   ]
  },
  {
   "cell_type": "code",
   "execution_count": 9,
   "id": "14580abe-7620-4360-ace7-82771496fc94",
   "metadata": {},
   "outputs": [
    {
     "name": "stdout",
     "output_type": "stream",
     "text": [
      "ython \n",
      "n is f\n"
     ]
    }
   ],
   "source": [
    "#slicing\n",
    "str =\"python is fun\"\n",
    "print(str[1:7])\n",
    "print(str[-8:-2])"
   ]
  },
  {
   "cell_type": "code",
   "execution_count": 10,
   "id": "6b7d7ea7-a02b-418c-a2dc-cd974b7eaaa3",
   "metadata": {},
   "outputs": [
    {
     "name": "stdout",
     "output_type": "stream",
     "text": [
      " my name is sai snd iam 30 years old.\n"
     ]
    }
   ],
   "source": [
    "#format string\n",
    "#python 1\n",
    "name=\"sai\"\n",
    "age=30\n",
    "formatted_str= \" my name is %s snd iam %d years old.\" %(name,age)\n",
    "print(formatted_str)"
   ]
  },
  {
   "cell_type": "code",
   "execution_count": 12,
   "id": "fbec7554-cf33-447a-a4c5-8f88d98df435",
   "metadata": {},
   "outputs": [
    {
     "name": "stdout",
     "output_type": "stream",
     "text": [
      " my name is sai snd iam 30 years old.\n"
     ]
    }
   ],
   "source": [
    "# python 2\n",
    "name=\"sai\"\n",
    "age=30\n",
    "formatted_str= \" my name is {} snd iam {} years old.\".format(name,age)\n",
    "print(formatted_str)"
   ]
  },
  {
   "cell_type": "code",
   "execution_count": 13,
   "id": "b9c6be45-efb4-40f2-864c-2d8ecf679bc6",
   "metadata": {},
   "outputs": [
    {
     "name": "stdout",
     "output_type": "stream",
     "text": [
      " my name is sai snd iam 30 years old.\n"
     ]
    }
   ],
   "source": [
    "# python 3\n",
    "name=\"sai\"\n",
    "age=30\n",
    "formatted_str= f\" my name is {name} snd iam {age} years old.\"\n",
    "print(formatted_str)"
   ]
  },
  {
   "cell_type": "code",
   "execution_count": 14,
   "id": "213a8cf0-cadb-4cd9-9020-ac7507f494de",
   "metadata": {},
   "outputs": [
    {
     "name": "stdout",
     "output_type": "stream",
     "text": [
      "6\n"
     ]
    }
   ],
   "source": [
    "#string methods\n",
    "# len()\n",
    "str=\"python\"\n",
    "print(len(str))"
   ]
  },
  {
   "cell_type": "code",
   "execution_count": 15,
   "id": "19e8b138-a7c6-4fa9-bcfb-4c2c0fdc1cdc",
   "metadata": {},
   "outputs": [
    {
     "name": "stdout",
     "output_type": "stream",
     "text": [
      "PYTHON\n"
     ]
    }
   ],
   "source": [
    "# lower()  / upper()\n",
    "str =\"python\"\n",
    "print(str.upper())"
   ]
  },
  {
   "cell_type": "code",
   "execution_count": 16,
   "id": "688de76d-bdb5-4417-97d4-ce71643a1674",
   "metadata": {},
   "outputs": [
    {
     "name": "stdout",
     "output_type": "stream",
     "text": [
      "python\n"
     ]
    }
   ],
   "source": [
    "str=\"PYTHON\"\n",
    "print(str.lower())"
   ]
  },
  {
   "cell_type": "code",
   "execution_count": 17,
   "id": "b0667e59-e361-4224-87bc-3a2449857759",
   "metadata": {},
   "outputs": [
    {
     "name": "stdout",
     "output_type": "stream",
     "text": [
      "python\n"
     ]
    }
   ],
   "source": [
    "# strip()\n",
    "str=\"  python  \"\n",
    "print(str.strip())"
   ]
  },
  {
   "cell_type": "code",
   "execution_count": 32,
   "id": "fc3ac7db-9eff-4381-8d1b-83d24f0d45fb",
   "metadata": {},
   "outputs": [
    {
     "name": "stdout",
     "output_type": "stream",
     "text": [
      "Hello Good\n"
     ]
    }
   ],
   "source": [
    "# replace()\n",
    "g=\"hi Good\"\n",
    "h=g.replace(\"hi\", \"Hello\")\n",
    "print(h)"
   ]
  },
  {
   "cell_type": "code",
   "execution_count": 36,
   "id": "2d31b258-128e-44fe-b98a-114666236014",
   "metadata": {},
   "outputs": [
    {
     "name": "stdout",
     "output_type": "stream",
     "text": [
      "['python', 'is', 'fun']\n"
     ]
    }
   ],
   "source": [
    "#split()\n",
    "my_string=\"python is fun\"\n",
    "words=my_string.split()\n",
    "print(words)"
   ]
  },
  {
   "cell_type": "code",
   "execution_count": 45,
   "id": "b19c5d8d-b94b-4d9d-935e-80c143bc5f8c",
   "metadata": {},
   "outputs": [
    {
     "name": "stdout",
     "output_type": "stream",
     "text": [
      "python is fun\n"
     ]
    }
   ],
   "source": [
    "#join()\n",
    "words=[\"python\",\" is\",\" fun\"]\n",
    "joined_str='' .join(words)  \n",
    "print(joined_str)"
   ]
  },
  {
   "cell_type": "code",
   "execution_count": 3,
   "id": "7e81556f-44cd-4642-a635-a306551e3839",
   "metadata": {},
   "outputs": [
    {
     "name": "stdout",
     "output_type": "stream",
     "text": [
      "Python is fun\n"
     ]
    }
   ],
   "source": [
    "# capitalize()\n",
    "my_string=(\"python is fun\")\n",
    "a=my_string.capitalize()       # upper case in first letter\n",
    "print(a)                      "
   ]
  },
  {
   "cell_type": "code",
   "execution_count": 5,
   "id": "6e82b08d-8554-45fd-847b-789189634b9a",
   "metadata": {},
   "outputs": [
    {
     "name": "stdout",
     "output_type": "stream",
     "text": [
      "python is fun\n"
     ]
    }
   ],
   "source": [
    "# casefold()\n",
    "my_string=(\"PYTHON IS FUN\")\n",
    "a=my_string.casefold()            # make the string lower case\n",
    "print(a) \n"
   ]
  },
  {
   "cell_type": "code",
   "execution_count": 8,
   "id": "c8811a27-3645-420c-8967-17d90fd12a5a",
   "metadata": {},
   "outputs": [
    {
     "name": "stdout",
     "output_type": "stream",
     "text": [
      "            python            \n"
     ]
    }
   ],
   "source": [
    "# center()\n",
    "str =(\"python\")\n",
    "x=str.center(30)           # print the word python,taking up the space of 30 chracters,with \"python \" inthe middle\n",
    "print(x) "
   ]
  },
  {
   "cell_type": "code",
   "execution_count": 10,
   "id": "780d1d73-3aa0-4a48-9471-81a611fcff14",
   "metadata": {},
   "outputs": [
    {
     "name": "stdout",
     "output_type": "stream",
     "text": [
      "b'chandra s^hekhar'\n"
     ]
    }
   ],
   "source": [
    "#encode()\n",
    "str = \"chandra shekhar\"\n",
    "x=str.encode()\n",
    "print(x)"
   ]
  },
  {
   "cell_type": "code",
   "execution_count": 5,
   "id": "a06d1058-7a10-4888-9aba-60ac6f97b0db",
   "metadata": {},
   "outputs": [
    {
     "name": "stdout",
     "output_type": "stream",
     "text": [
      "True\n"
     ]
    }
   ],
   "source": [
    "#endswith()\n",
    "str= \"python is fun.\"\n",
    "x=str.endswith(\".\")\n",
    "print(x)"
   ]
  },
  {
   "cell_type": "code",
   "execution_count": 16,
   "id": "2a8797c2-2c50-4acb-9503-72593227d299",
   "metadata": {},
   "outputs": [
    {
     "name": "stdout",
     "output_type": "stream",
     "text": [
      "H         e         l         l         o\n"
     ]
    }
   ],
   "source": [
    "#expndtabs()\n",
    "str= \"H\\te\\tl\\tl\\to\"\n",
    "x=str.expandtabs(10)\n",
    "print(x)"
   ]
  },
  {
   "cell_type": "code",
   "execution_count": 19,
   "id": "d280dbdd-a4fa-4c30-99aa-796f80d09fa5",
   "metadata": {},
   "outputs": [
    {
     "name": "stdout",
     "output_type": "stream",
     "text": [
      "10\n"
     ]
    }
   ],
   "source": [
    " #find()\n",
    "str= \"python is fun\"\n",
    "x=str.find(\"f\")\n",
    "print(x)"
   ]
  },
  {
   "cell_type": "code",
   "execution_count": 21,
   "id": "b17db5e7-93c7-45e5-af46-b295df33a5af",
   "metadata": {},
   "outputs": [
    {
     "name": "stdout",
     "output_type": "stream",
     "text": [
      "for only29.00 rupees!\n"
     ]
    }
   ],
   "source": [
    "#format()\n",
    "str=\"for only{price:.2f} rupees!\"\n",
    "print(str.format(price=29))"
   ]
  },
  {
   "cell_type": "code",
   "execution_count": 23,
   "id": "2f0914c1-2fd6-4d96-907d-92fb0c77454b",
   "metadata": {},
   "outputs": [
    {
     "name": "stdout",
     "output_type": "stream",
     "text": [
      "Python Is Fun.\n"
     ]
    }
   ],
   "source": [
    "#title\n",
    "str= \"python is fun.\"\n",
    "x=str.title()\n",
    "print(x)          #make the first letter in each word upper case"
   ]
  },
  {
   "cell_type": "code",
   "execution_count": 24,
   "id": "58527c14-c355-4b1c-b9a7-48b8f95af000",
   "metadata": {},
   "outputs": [
    {
     "name": "stdout",
     "output_type": "stream",
     "text": [
      "pYTHON iS fUN\n"
     ]
    }
   ],
   "source": [
    "#swapcase()\n",
    "str= \"Python Is Fun\"     # make the lower case letters upper case and uppper case \n",
    "x=str.swapcase()\n",
    "print(x)"
   ]
  },
  {
   "cell_type": "code",
   "execution_count": null,
   "id": "bf8ccb8a-1a6d-45aa-b75c-db416e800a14",
   "metadata": {},
   "outputs": [],
   "source": []
  }
 ],
 "metadata": {
  "kernelspec": {
   "display_name": "Python 3 (ipykernel)",
   "language": "python",
   "name": "python3"
  },
  "language_info": {
   "codemirror_mode": {
    "name": "ipython",
    "version": 3
   },
   "file_extension": ".py",
   "mimetype": "text/x-python",
   "name": "python",
   "nbconvert_exporter": "python",
   "pygments_lexer": "ipython3",
   "version": "3.12.4"
  }
 },
 "nbformat": 4,
 "nbformat_minor": 5
}
