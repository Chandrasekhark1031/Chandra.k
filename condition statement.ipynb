{
 "cells": [
  {
   "cell_type": "code",
   "execution_count": 3,
   "id": "467f06a9-e9e7-497b-8d69-dff5d5d6a323",
   "metadata": {},
   "outputs": [
    {
     "name": "stdout",
     "output_type": "stream",
     "text": [
      "number is positive\n",
      "python\n"
     ]
    }
   ],
   "source": [
    "# if statement:\n",
    "number =5\n",
    "if number >0:\n",
    "    print(\"number is positive\")\n",
    "    print(\"python\")\n"
   ]
  },
  {
   "cell_type": "code",
   "execution_count": 5,
   "id": "2d00a319-dbb4-49ec-807b-a845c6792093",
   "metadata": {},
   "outputs": [
    {
     "name": "stdin",
     "output_type": "stream",
     "text": [
      "enter number: 7\n"
     ]
    },
    {
     "name": "stdout",
     "output_type": "stream",
     "text": [
      "number is positive\n"
     ]
    }
   ],
   "source": [
    "num=int(input(\"enter number:\"))\n",
    "if num>0:\n",
    "    print(\"number is positive\")\n",
    "else:\n",
    "    print(\"number is negative\")\n",
    "    "
   ]
  },
  {
   "cell_type": "code",
   "execution_count": 2,
   "id": "28fd6e42-c4ab-4b6a-913b-80ab40c68f4c",
   "metadata": {},
   "outputs": [
    {
     "name": "stdin",
     "output_type": "stream",
     "text": [
      "enter your age: 19\n"
     ]
    },
    {
     "name": "stdout",
     "output_type": "stream",
     "text": [
      "eligible\n"
     ]
    }
   ],
   "source": [
    "# else sttement:\n",
    "age=int(input(\"enter your age:\"))\n",
    "if age>=18 and age<=100 :\n",
    "    print(\"eligible\")\n",
    "else:\n",
    "    print(\"not eligible\")\n",
    "    "
   ]
  },
  {
   "cell_type": "code",
   "execution_count": 3,
   "id": "ea664cad-5871-46f8-8301-64768d5ac44f",
   "metadata": {},
   "outputs": [
    {
     "name": "stdin",
     "output_type": "stream",
     "text": [
      "enter your age: 22\n"
     ]
    },
    {
     "name": "stdout",
     "output_type": "stream",
     "text": [
      "go to college\n"
     ]
    }
   ],
   "source": [
    "# elif(elseif) statement:\n",
    "age=int(input('enter your age:' ))\n",
    "if age>=5 and age <=15:\n",
    "    print('go to school')\n",
    "elif age>=16 and age<= 24:\n",
    "    print('go to college')\n",
    "elif age>=25 and age<=59:\n",
    "    print('go to work')\n",
    "elif age>=60 and age<= 100:\n",
    "    print('retire')\n",
    "else:\n",
    "    print('invalid')"
   ]
  },
  {
   "cell_type": "code",
   "execution_count": 4,
   "id": "9434f19f-c352-49dd-93f5-1cef6e349cb2",
   "metadata": {},
   "outputs": [
    {
     "name": "stdout",
     "output_type": "stream",
     "text": [
      "Welcome To Zeeshan Restaurant\n",
      "Please Select Your Menu Type\n",
      "please enter '1' for vegetarian\n",
      "please enter '2' for non vegetarian\n"
     ]
    },
    {
     "name": "stdin",
     "output_type": "stream",
     "text": [
      " 1\n"
     ]
    },
    {
     "name": "stdout",
     "output_type": "stream",
     "text": [
      "select from the following number corresponding to your veg_dish: ['1.veg biriyani', '2.lemon rice', '3.paneer biriyani', '4.veg fried rice']\n"
     ]
    },
    {
     "name": "stdin",
     "output_type": "stream",
     "text": [
      "Please enter the number corresponding to your vegetarian dish:  4\n"
     ]
    },
    {
     "name": "stdout",
     "output_type": "stream",
     "text": [
      "Your order is getting prepared, please wait.\n"
     ]
    }
   ],
   "source": [
    "# Task-1 restaurant data:\n",
    "print(\"Welcome To Zeeshan Restaurant\")\n",
    "print(\"Please Select Your Menu Type\")\n",
    "print(\"please enter '1' for vegetarian\")\n",
    "print(\"please enter '2' for non vegetarian\")\n",
    "number=int(input())\n",
    "veg_pack=[\"1.veg biriyani\",\"2.lemon rice\",\"3.paneer biriyani\",\"4.veg fried rice\"]\n",
    "nonveg_pack=[\"1.egg biriyani\",\"2.chikhen biriyani\",\"3.mutton biriyani\",\"4.chikhen fried rice \"]\n",
    "if number ==1:\n",
    "    print(\"select from the following number corresponding to your veg_dish:\",veg_pack)\n",
    "    veg_dish = int(input(\"Please enter the number corresponding to your vegetarian dish: \"))\n",
    "    if veg_dish == 1 or veg_dish == 2 or veg_dish == 3 or veg_dish == 4 :\n",
    "        print(\"Your order is getting prepared, please wait.\")\n",
    "    else:\n",
    "        print(\"Entered dish is not available.\")\n",
    "elif number==2:\n",
    "    print(\"select from the following number corresponding to your veg_dish:\",nonveg_pack)\n",
    "    veg_dish = int(input(\"Please enter the number corresponding to your vegetarian dish: \"))\n",
    "    if veg_dish == 1 or veg_dish == 2 or veg_dish == 3 or veg_dish == 4 or veg_dish == 5:\n",
    "        print(\"Your order is getting prepared, please wait.\")\n",
    "    else:\n",
    "        print(\"Entered dish is not available.\")        \n",
    "else:\n",
    "    print(\"choose only between 1 and 2 \")\n"
   ]
  },
  {
   "cell_type": "code",
   "execution_count": 13,
   "id": "805ea9e2-6972-4437-9194-6470d8f1f595",
   "metadata": {},
   "outputs": [
    {
     "name": "stdin",
     "output_type": "stream",
     "text": [
      "Enter your marks: 101\n"
     ]
    },
    {
     "name": "stdout",
     "output_type": "stream",
     "text": [
      "Enter valid details.\n"
     ]
    }
   ],
   "source": [
    "# Task-2\n",
    "grade=int(input(\"Enter your marks:\"))\n",
    "if grade>100:\n",
    "    print(\"Enter valid details.\")\n",
    "elif grade >90:\n",
    "    print(\"your grade is :A+\")\n",
    "elif grade >80:\n",
    "    print(\"your grade is: A\")\n",
    "elif grade >70:\n",
    "    print(\"your grade is: B\")\n",
    "elif grade >60:\n",
    "    print(\"your grade is: C\")\n",
    "elif grade >50:\n",
    "    print(\"your grade is: D\")    \n",
    "elif grade >40:\n",
    "    print(\"your grade is: E\")\n",
    "else:\n",
    "    print(\"your grade is: F\")\n",
    "    "
   ]
  },
  {
   "cell_type": "code",
   "execution_count": 45,
   "id": "62f83fdc-cc1d-434f-ad6c-a8782c374784",
   "metadata": {},
   "outputs": [
    {
     "name": "stdout",
     "output_type": "stream",
     "text": [
      "eligible to vote: [34, 78, 23, 100, 91, 45]\n",
      "noteligible to vote: [5, 104, 205, 1]\n"
     ]
    }
   ],
   "source": [
    "#Task-3\n",
    "#separation of ages eligible and not eligible for vote\n",
    "ages=[34,5,78,23,100,91,104,205,45,1]\n",
    "#Taking two empty lists to store eligible and not eligible ages\n",
    "eligible_ages=[]\n",
    "noteligible_ages=[]\n",
    "if ages [0]>=18 and ages[0]<=100 :\n",
    "    eligible_ages.append(ages[0])\n",
    "else:\n",
    "    noteligible_ages.append(ages[0]\n",
    "if ages[1] >= 18 and ages[1]<=100 :\n",
    "    eligible_ages.append(ages[1])\n",
    "else:\n",
    "    noteligible_ages.append(ages[1])\n",
    "if ages[2] >= 18 and ages[2]<=100:\n",
    "    eligible_ages.append(ages[2])\n",
    "else:\n",
    "    noteligible_ages.append(ages[2])\n",
    "if ages[3] >= 18 and ages[3]<=100:\n",
    "    eligible_ages.append(ages[3])\n",
    "else:\n",
    "    noteligible_ages.append(ages[3])\n",
    "if ages[4] >= 18 and ages[4]<=100:\n",
    "    eligible_ages.append(ages[4])\n",
    "else:\n",
    "    noteligible_ages.append(ages[4])\n",
    "if ages[5] >= 18 and ages[5]<=100:\n",
    "    eligible_ages.append(ages[5])\n",
    "else:\n",
    "    noteligible_ages.append(ages[5])\n",
    "if ages[6] >= 18 and ages[6]<=100:\n",
    "    eligible_ages.append(ages[6])\n",
    "else:\n",
    "    noteligible_ages.append(ages[6])    \n",
    "if ages[7] >= 18 and ages[7]<=100:\n",
    "    eligible_ages.append(ages[7])\n",
    "else:\n",
    "    noteligible_ages.append(ages[7])    \n",
    "if ages[8] >= 18 and ages[8]<=100:\n",
    "    eligible_ages.append(ages[8])\n",
    "else:\n",
    "    noteligible_ages.append(ages[8])\n",
    "if ages[9] >= 18 and ages[9]<=100:\n",
    "    eligible_ages.append(ages[9])\n",
    "else:\n",
    "    noteligible_ages.append(ages[9]) \n",
    "\n",
    "print(\"eligible to vote:\",eligible_ages)\n",
    "print(\"noteligible to vote:\",noteligible_ages)"
   ]
  },
  {
   "cell_type": "code",
   "execution_count": 43,
   "id": "f1288da4-7231-4c06-a874-ccf445410087",
   "metadata": {},
   "outputs": [
    {
     "name": "stdout",
     "output_type": "stream",
     "text": [
      "eligible to vote: [34, 78, 23, 100, 91, 45]\n",
      "noteligible to vote: [5, 104, 205, 1]\n"
     ]
    }
   ],
   "source": [
    "# using for loop:\n",
    "#separation of ages eligible and not eligible for vote\n",
    "ages=[34,5,78,23,100,91,104,205,45,1]\n",
    "#Taking two empty lists to store eligible and not eligible ages\n",
    "eligible_ages=[]\n",
    "noteligible_ages=[]\n",
    "for i in range(len(ages)):\n",
    "    if ages[i]>=18 and ages[i]<=100:\n",
    "        eligible_ages.append(ages[i])\n",
    "    else:\n",
    "        noteligible_ages.append(ages[i])\n",
    "print(\"eligible to vote:\",eligible_ages)\n",
    "print(\"noteligible to vote:\",noteligible_ages)\n",
    "    "
   ]
  },
  {
   "cell_type": "code",
   "execution_count": null,
   "id": "d2af9150-2a02-4a17-80c8-3bdaf015d4e2",
   "metadata": {},
   "outputs": [],
   "source": [
    "age=[34,5,78,100,91,104,205,45,1]\n",
    "eligible_ages=[34,45,78,91,100]\n",
    "not_eligible_ages=[1,5,104,205]\n",
    "if eligible_ages[0:5] and not_eligible_ages[0:4] :\n",
    "    print(\"eligible to vote:\",eligible_ages)\n",
    "    print(\"not eligible to vote:\",not_eligible_ages)\n",
    "else:    \n",
    "    print(\"invaid\")"
   ]
  }
 ],
 "metadata": {
  "kernelspec": {
   "display_name": "Python 3 (ipykernel)",
   "language": "python",
   "name": "python3"
  },
  "language_info": {
   "codemirror_mode": {
    "name": "ipython",
    "version": 3
   },
   "file_extension": ".py",
   "mimetype": "text/x-python",
   "name": "python",
   "nbconvert_exporter": "python",
   "pygments_lexer": "ipython3",
   "version": "3.12.4"
  }
 },
 "nbformat": 4,
 "nbformat_minor": 5
}
